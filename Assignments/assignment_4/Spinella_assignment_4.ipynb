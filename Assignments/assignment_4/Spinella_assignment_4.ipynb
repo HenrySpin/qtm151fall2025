{
 "cells": [
  {
   "cell_type": "markdown",
   "metadata": {},
   "source": [
    "# Assignment 4"
   ]
  },
  {
   "cell_type": "markdown",
   "metadata": {},
   "source": [
    "<font size = \"5\">\n",
    "Import the matplotlib and numpy packages"
   ]
  },
  {
   "cell_type": "code",
   "execution_count": 1,
   "metadata": {},
   "outputs": [],
   "source": [
    "import numpy as np \n",
    "import matplotlib.pyplot as plt"
   ]
  },
  {
   "cell_type": "markdown",
   "metadata": {},
   "source": [
    "### a) For-loops and Conditional Statements  \n",
    "\n",
    "Using the lists of movie ratings and titles below, where each rating corresponds directly to the title in the same position, <br> create a new list of movies that are considered top picks (**those with ratings greater than or equal to 8**):   \n",
    "- Use a for loop to iterate through both lists below and store the titles and ratings of movies <br>considered top picks in two new lists:  \n",
    "  - `top_picks_titles`: The titles of movies considered top picks.  \n",
    "  - `top_picks_ratings`: The ratings of top pick movies.  \n",
    "- Print the results of both lists."
   ]
  },
  {
   "cell_type": "code",
   "execution_count": 3,
   "metadata": {},
   "outputs": [],
   "source": [
    "# run this cell first\n",
    "movie_ratings = [6.8, 8.3, 8.5, 5.1, 8.0, 3.5, 7.8, 8.4, 7.8, 2.8, 8.8]\n",
    "movie_titles = [\"Barbie\", \"Oppenheimer\", \"Spider-Man: Across the Spider-Verse\", \n",
    "                \"Morbius\", \"Dune\", \"The Emoji Movie\", \n",
    "                \"Everything Everywhere All at Once\", \"Avengers: Endgame\", \n",
    "                \"The Batman\", \"Cats\", \"Pulp Fiction\"]"
   ]
  },
  {
   "cell_type": "code",
   "execution_count": 8,
   "metadata": {},
   "outputs": [
    {
     "name": "stdout",
     "output_type": "stream",
     "text": [
      "['Oppenheimer', 'Spider-Man: Across the Spider-Verse', 'Dune', 'Avengers: Endgame', 'Pulp Fiction']\n",
      "[8.3, 8.5, 8.0, 8.4, 8.8]\n"
     ]
    }
   ],
   "source": [
    "# Write your answer here\n",
    "\n",
    "top_picks_titles = []   #Define new list for top picks titles\n",
    "top_picks_ratings = []   #Define new list for corresponding ratings\n",
    "\n",
    "for movie in movie_titles:\n",
    "    rating = movie_ratings[movie_titles.index(movie)]  # get the rating for this movie\n",
    "    if rating >= 8.0:\n",
    "        top_picks_titles.append(movie) \n",
    "        top_picks_ratings.append(rating)\n",
    "\n",
    "print(top_picks_titles)\n",
    "print(top_picks_ratings)"
   ]
  },
  {
   "cell_type": "markdown",
   "metadata": {},
   "source": [
    "### b) Follow-up to Part (a)  \n",
    "\n",
    "Using numpy, perform the following operations on the `top_picks_ratings` list:  \n",
    "\n",
    "- Count and print the total number of movies considered top picks using `np.size()`.  \n",
    "- Calculate and print the average ratings of the top pick movies using `np.mean()`.  \n",
    "- Determine and print the highest rating from the top pick movies using `np.max()`. \n",
    "\n",
    "**You should assign each computed value to a variable**\n",
    "\n",
    "Hint: Most numpy operations work with lists, not just arrays"
   ]
  },
  {
   "cell_type": "code",
   "execution_count": 9,
   "metadata": {},
   "outputs": [
    {
     "name": "stdout",
     "output_type": "stream",
     "text": [
      "5\n",
      "8.4\n",
      "8.8\n"
     ]
    }
   ],
   "source": [
    "# Write your answer here\n",
    "\n",
    "number_of_top_picks = np.size(top_picks_ratings)  #Get the number of top picks\n",
    "print(number_of_top_picks)\n",
    "\n",
    "mean_rating_of_top_picks = np.mean(top_picks_ratings)  #Get the number of top picks\n",
    "print(mean_rating_of_top_picks)\n",
    "\n",
    "max_rating_of_top_picks = np.max(top_picks_ratings)  #Get the number of top picks\n",
    "print(max_rating_of_top_picks)"
   ]
  },
  {
   "cell_type": "markdown",
   "metadata": {},
   "source": [
    "\n",
    "### c) For-loops + Plotting\n",
    "\n",
    "   - Create an array of x-values with 100 evenly spaced points between $0$ and $2\\pi$ <br>using `np.linspace()`. **Hint**: type ``help(np.linspace)`` in a separate cell to see how it is used\n",
    "\n",
    "   - Create a vector named ```vec_y1``` where each element is computed from the formula <br> $ y_k = \\sin(x_k)$. (Here $x_k$ is the $k$-th element of the array you created above, and $y_k$ is the $k$-th element of vec_y1)\n",
    "\n",
    "   - Create a vector ```vec_y2``` where each element is computed from the formula <br> $ y_k = \\cos(x_k)$.\n",
    "\n",
    "   - Create a list ```list_vectors``` with elements ```vec_y1``` and ```vec_y2```. (So a list with two components, both being numpy arrays)\n",
    "\n",
    "   - Create a for-loop that goes through each element of ```list_vectors``` and plots each <br>list of $y$ values on the vertical axis against $x$ on the horizontal axis.\n",
    "\n",
    "Note: The final output should be a 2-dimensional plot with the values from vec_y1 and vec_y2 on the vertical axis, and the $x$ values on the horizontal axis. **Remember to label the axes and add a title to the plot**."
   ]
  },
  {
   "cell_type": "code",
   "execution_count": 14,
   "metadata": {},
   "outputs": [
    {
     "name": "stdout",
     "output_type": "stream",
     "text": [
      "Help on function plot in module matplotlib.pyplot:\n",
      "\n",
      "plot(\n",
      "    *args: 'float | ArrayLike | str',\n",
      "    scalex: 'bool' = True,\n",
      "    scaley: 'bool' = True,\n",
      "    data=None,\n",
      "    **kwargs\n",
      ") -> 'list[Line2D]'\n",
      "    Plot y versus x as lines and/or markers.\n",
      "\n",
      "    Call signatures::\n",
      "\n",
      "        plot([x], y, [fmt], *, data=None, **kwargs)\n",
      "        plot([x], y, [fmt], [x2], y2, [fmt2], ..., **kwargs)\n",
      "\n",
      "    The coordinates of the points or line nodes are given by *x*, *y*.\n",
      "\n",
      "    The optional parameter *fmt* is a convenient way for defining basic\n",
      "    formatting like color, marker and linestyle. It's a shortcut string\n",
      "    notation described in the *Notes* section below.\n",
      "\n",
      "    >>> plot(x, y)        # plot x and y using default line style and color\n",
      "    >>> plot(x, y, 'bo')  # plot x and y using blue circle markers\n",
      "    >>> plot(y)           # plot y using x as index array 0..N-1\n",
      "    >>> plot(y, 'r+')     # ditto, but with red plusses\n",
      "\n",
      "    You can use `.Line2D` properties as keyword arguments for more\n",
      "    control on the appearance. Line properties and *fmt* can be mixed.\n",
      "    The following two calls yield identical results:\n",
      "\n",
      "    >>> plot(x, y, 'go--', linewidth=2, markersize=12)\n",
      "    >>> plot(x, y, color='green', marker='o', linestyle='dashed',\n",
      "    ...      linewidth=2, markersize=12)\n",
      "\n",
      "    When conflicting with *fmt*, keyword arguments take precedence.\n",
      "\n",
      "\n",
      "    **Plotting labelled data**\n",
      "\n",
      "    There's a convenient way for plotting objects with labelled data (i.e.\n",
      "    data that can be accessed by index ``obj['y']``). Instead of giving\n",
      "    the data in *x* and *y*, you can provide the object in the *data*\n",
      "    parameter and just give the labels for *x* and *y*::\n",
      "\n",
      "    >>> plot('xlabel', 'ylabel', data=obj)\n",
      "\n",
      "    All indexable objects are supported. This could e.g. be a `dict`, a\n",
      "    `pandas.DataFrame` or a structured numpy array.\n",
      "\n",
      "\n",
      "    **Plotting multiple sets of data**\n",
      "\n",
      "    There are various ways to plot multiple sets of data.\n",
      "\n",
      "    - The most straight forward way is just to call `plot` multiple times.\n",
      "      Example:\n",
      "\n",
      "      >>> plot(x1, y1, 'bo')\n",
      "      >>> plot(x2, y2, 'go')\n",
      "\n",
      "    - If *x* and/or *y* are 2D arrays, a separate data set will be drawn\n",
      "      for every column. If both *x* and *y* are 2D, they must have the\n",
      "      same shape. If only one of them is 2D with shape (N, m) the other\n",
      "      must have length N and will be used for every data set m.\n",
      "\n",
      "      Example:\n",
      "\n",
      "      >>> x = [1, 2, 3]\n",
      "      >>> y = np.array([[1, 2], [3, 4], [5, 6]])\n",
      "      >>> plot(x, y)\n",
      "\n",
      "      is equivalent to:\n",
      "\n",
      "      >>> for col in range(y.shape[1]):\n",
      "      ...     plot(x, y[:, col])\n",
      "\n",
      "    - The third way is to specify multiple sets of *[x]*, *y*, *[fmt]*\n",
      "      groups::\n",
      "\n",
      "      >>> plot(x1, y1, 'g^', x2, y2, 'g-')\n",
      "\n",
      "      In this case, any additional keyword argument applies to all\n",
      "      datasets. Also, this syntax cannot be combined with the *data*\n",
      "      parameter.\n",
      "\n",
      "    By default, each line is assigned a different style specified by a\n",
      "    'style cycle'. The *fmt* and line property parameters are only\n",
      "    necessary if you want explicit deviations from these defaults.\n",
      "    Alternatively, you can also change the style cycle using\n",
      "    :rc:`axes.prop_cycle`.\n",
      "\n",
      "\n",
      "    Parameters\n",
      "    ----------\n",
      "    x, y : array-like or scalar\n",
      "        The horizontal / vertical coordinates of the data points.\n",
      "        *x* values are optional and default to ``range(len(y))``.\n",
      "\n",
      "        Commonly, these parameters are 1D arrays.\n",
      "\n",
      "        They can also be scalars, or two-dimensional (in that case, the\n",
      "        columns represent separate data sets).\n",
      "\n",
      "        These arguments cannot be passed as keywords.\n",
      "\n",
      "    fmt : str, optional\n",
      "        A format string, e.g. 'ro' for red circles. See the *Notes*\n",
      "        section for a full description of the format strings.\n",
      "\n",
      "        Format strings are just an abbreviation for quickly setting\n",
      "        basic line properties. All of these and more can also be\n",
      "        controlled by keyword arguments.\n",
      "\n",
      "        This argument cannot be passed as keyword.\n",
      "\n",
      "    data : indexable object, optional\n",
      "        An object with labelled data. If given, provide the label names to\n",
      "        plot in *x* and *y*.\n",
      "\n",
      "        .. note::\n",
      "            Technically there's a slight ambiguity in calls where the\n",
      "            second label is a valid *fmt*. ``plot('n', 'o', data=obj)``\n",
      "            could be ``plt(x, y)`` or ``plt(y, fmt)``. In such cases,\n",
      "            the former interpretation is chosen, but a warning is issued.\n",
      "            You may suppress the warning by adding an empty format string\n",
      "            ``plot('n', 'o', '', data=obj)``.\n",
      "\n",
      "    Returns\n",
      "    -------\n",
      "    list of `.Line2D`\n",
      "        A list of lines representing the plotted data.\n",
      "\n",
      "    Other Parameters\n",
      "    ----------------\n",
      "    scalex, scaley : bool, default: True\n",
      "        These parameters determine if the view limits are adapted to the\n",
      "        data limits. The values are passed on to\n",
      "        `~.axes.Axes.autoscale_view`.\n",
      "\n",
      "    **kwargs : `~matplotlib.lines.Line2D` properties, optional\n",
      "        *kwargs* are used to specify properties like a line label (for\n",
      "        auto legends), linewidth, antialiasing, marker face color.\n",
      "        Example::\n",
      "\n",
      "        >>> plot([1, 2, 3], [1, 2, 3], 'go-', label='line 1', linewidth=2)\n",
      "        >>> plot([1, 2, 3], [1, 4, 9], 'rs', label='line 2')\n",
      "\n",
      "        If you specify multiple lines with one plot call, the kwargs apply\n",
      "        to all those lines. In case the label object is iterable, each\n",
      "        element is used as labels for each set of data.\n",
      "\n",
      "        Here is a list of available `.Line2D` properties:\n",
      "\n",
      "        Properties:\n",
      "        agg_filter: a filter function, which takes a (m, n, 3) float array and a dpi value, and returns a (m, n, 3) array and two offsets from the bottom left corner of the image\n",
      "        alpha: scalar or None\n",
      "        animated: bool\n",
      "        antialiased or aa: bool\n",
      "        clip_box: `~matplotlib.transforms.BboxBase` or None\n",
      "        clip_on: bool\n",
      "        clip_path: Patch or (Path, Transform) or None\n",
      "        color or c: :mpltype:`color`\n",
      "        dash_capstyle: `.CapStyle` or {'butt', 'projecting', 'round'}\n",
      "        dash_joinstyle: `.JoinStyle` or {'miter', 'round', 'bevel'}\n",
      "        dashes: sequence of floats (on/off ink in points) or (None, None)\n",
      "        data: (2, N) array or two 1D arrays\n",
      "        drawstyle or ds: {'default', 'steps', 'steps-pre', 'steps-mid', 'steps-post'}, default: 'default'\n",
      "        figure: `~matplotlib.figure.Figure` or `~matplotlib.figure.SubFigure`\n",
      "        fillstyle: {'full', 'left', 'right', 'bottom', 'top', 'none'}\n",
      "        gapcolor: :mpltype:`color` or None\n",
      "        gid: str\n",
      "        in_layout: bool\n",
      "        label: object\n",
      "        linestyle or ls: {'-', '--', '-.', ':', '', (offset, on-off-seq), ...}\n",
      "        linewidth or lw: float\n",
      "        marker: marker style string, `~.path.Path` or `~.markers.MarkerStyle`\n",
      "        markeredgecolor or mec: :mpltype:`color`\n",
      "        markeredgewidth or mew: float\n",
      "        markerfacecolor or mfc: :mpltype:`color`\n",
      "        markerfacecoloralt or mfcalt: :mpltype:`color`\n",
      "        markersize or ms: float\n",
      "        markevery: None or int or (int, int) or slice or list[int] or float or (float, float) or list[bool]\n",
      "        mouseover: bool\n",
      "        path_effects: list of `.AbstractPathEffect`\n",
      "        picker: float or callable[[Artist, Event], tuple[bool, dict]]\n",
      "        pickradius: float\n",
      "        rasterized: bool\n",
      "        sketch_params: (scale: float, length: float, randomness: float)\n",
      "        snap: bool or None\n",
      "        solid_capstyle: `.CapStyle` or {'butt', 'projecting', 'round'}\n",
      "        solid_joinstyle: `.JoinStyle` or {'miter', 'round', 'bevel'}\n",
      "        transform: unknown\n",
      "        url: str\n",
      "        visible: bool\n",
      "        xdata: 1D array\n",
      "        ydata: 1D array\n",
      "        zorder: float\n",
      "\n",
      "    See Also\n",
      "    --------\n",
      "    scatter : XY scatter plot with markers of varying size and/or color (\n",
      "        sometimes also called bubble chart).\n",
      "\n",
      "    Notes\n",
      "    -----\n",
      "\n",
      "    .. note::\n",
      "\n",
      "        This is the :ref:`pyplot wrapper <pyplot_interface>` for `.axes.Axes.plot`.\n",
      "\n",
      "    **Format Strings**\n",
      "\n",
      "    A format string consists of a part for color, marker and line::\n",
      "\n",
      "        fmt = '[marker][line][color]'\n",
      "\n",
      "    Each of them is optional. If not provided, the value from the style\n",
      "    cycle is used. Exception: If ``line`` is given, but no ``marker``,\n",
      "    the data will be a line without markers.\n",
      "\n",
      "    Other combinations such as ``[color][marker][line]`` are also\n",
      "    supported, but note that their parsing may be ambiguous.\n",
      "\n",
      "    **Markers**\n",
      "\n",
      "    =============   ===============================\n",
      "    character       description\n",
      "    =============   ===============================\n",
      "    ``'.'``         point marker\n",
      "    ``','``         pixel marker\n",
      "    ``'o'``         circle marker\n",
      "    ``'v'``         triangle_down marker\n",
      "    ``'^'``         triangle_up marker\n",
      "    ``'<'``         triangle_left marker\n",
      "    ``'>'``         triangle_right marker\n",
      "    ``'1'``         tri_down marker\n",
      "    ``'2'``         tri_up marker\n",
      "    ``'3'``         tri_left marker\n",
      "    ``'4'``         tri_right marker\n",
      "    ``'8'``         octagon marker\n",
      "    ``'s'``         square marker\n",
      "    ``'p'``         pentagon marker\n",
      "    ``'P'``         plus (filled) marker\n",
      "    ``'*'``         star marker\n",
      "    ``'h'``         hexagon1 marker\n",
      "    ``'H'``         hexagon2 marker\n",
      "    ``'+'``         plus marker\n",
      "    ``'x'``         x marker\n",
      "    ``'X'``         x (filled) marker\n",
      "    ``'D'``         diamond marker\n",
      "    ``'d'``         thin_diamond marker\n",
      "    ``'|'``         vline marker\n",
      "    ``'_'``         hline marker\n",
      "    =============   ===============================\n",
      "\n",
      "    **Line Styles**\n",
      "\n",
      "    =============    ===============================\n",
      "    character        description\n",
      "    =============    ===============================\n",
      "    ``'-'``          solid line style\n",
      "    ``'--'``         dashed line style\n",
      "    ``'-.'``         dash-dot line style\n",
      "    ``':'``          dotted line style\n",
      "    =============    ===============================\n",
      "\n",
      "    Example format strings::\n",
      "\n",
      "        'b'    # blue markers with default shape\n",
      "        'or'   # red circles\n",
      "        '-g'   # green solid line\n",
      "        '--'   # dashed line with default color\n",
      "        '^k:'  # black triangle_up markers connected by a dotted line\n",
      "\n",
      "    **Colors**\n",
      "\n",
      "    The supported color abbreviations are the single letter codes\n",
      "\n",
      "    =============    ===============================\n",
      "    character        color\n",
      "    =============    ===============================\n",
      "    ``'b'``          blue\n",
      "    ``'g'``          green\n",
      "    ``'r'``          red\n",
      "    ``'c'``          cyan\n",
      "    ``'m'``          magenta\n",
      "    ``'y'``          yellow\n",
      "    ``'k'``          black\n",
      "    ``'w'``          white\n",
      "    =============    ===============================\n",
      "\n",
      "    and the ``'CN'`` colors that index into the default property cycle.\n",
      "\n",
      "    If the color is the only part of the format string, you can\n",
      "    additionally use any  `matplotlib.colors` spec, e.g. full names\n",
      "    (``'green'``) or hex strings (``'#008000'``).\n",
      "\n"
     ]
    }
   ],
   "source": [
    "help(plt.plot)"
   ]
  },
  {
   "cell_type": "code",
   "execution_count": 13,
   "metadata": {},
   "outputs": [
    {
     "data": {
      "text/plain": [
       "<matplotlib.legend.Legend at 0x2b7dce32ba0>"
      ]
     },
     "execution_count": 13,
     "metadata": {},
     "output_type": "execute_result"
    },
    {
     "data": {
      "image/png": "[encoded data removed]",
      "text/plain": [
       "<Figure size 640x480 with 1 Axes>"
      ]
     },
     "metadata": {},
     "output_type": "display_data"
    }
   ],
   "source": [
    "# Write your answer here\n",
    "x_array = np.linspace(0,2*np.pi,100)  #Create an array of 100 values from 0 to 2pi\n",
    "vec_y1 = np.sin(x_array)  \n",
    "vec_y2 = np.cos(x_array)\n",
    "list_vectors = [vec_y1, vec_y2] #Define the list of the our two vectors\n",
    "\n",
    "for vector in list_vectors:\n",
    "    plt.plot(x_array, vector)  #Plot each vector against the x_array\n",
    "plt.xlabel(\"x values\")\n",
    "plt.ylabel(\"vector y values\")\n",
    "plt.title(\"Sine and Cosine Functions\")\n",
    "plt.legend([\"Sine\", \"Cosine\"])\n"
   ]
  },
  {
   "cell_type": "markdown",
   "metadata": {},
   "source": [
    "### d) Learn How to Use zip()\n",
    "\n",
    "- Below, write a chunk of code that prints out the average score for each player over the 3 rounds. <br> The names and scores are given in the lists below.  \n",
    "- The program should print the players's name and their average score, formatted like this: \n",
    "\n",
    "    ```python\n",
    "    John's average score: ___ \n",
    "    Bob's average score: ___ \n",
    "    Jane's average score: ___\n",
    "    Dave's average score: ___\n",
    "    Jenny's average score: ___\n",
    "    ```\n",
    "\n",
    "- Use the ``zip`` function in the heading of the loop. **You should use all four lists in the heading**\n",
    "\n",
    "Hints/Tips:\n",
    "- You can learn more about zip() here: [Python zip() Function](https://www.geeksforgeeks.org/zip-in-python/)\n",
    "- You can print a string followed by a float using print as follows:\n",
    "```python\n",
    "    print(some_string, some_float)\n",
    "```\n",
    "- ...or you can convert the float to a string using ``str``"
   ]
  },
  {
   "cell_type": "code",
   "execution_count": 15,
   "metadata": {},
   "outputs": [],
   "source": [
    "# run this cell first\n",
    "player_names = [\"John\", \"Bob\", \"Jane\", \"Dave\", \"Jenny\"]\n",
    "round1 = [120, 200, 150, 300, 180]\n",
    "round2 = [100, 210, 160, 280, 190]\n",
    "round3 = [130, 190, 170, 310, 175]"
   ]
  },
  {
   "cell_type": "code",
   "execution_count": 34,
   "metadata": {},
   "outputs": [
    {
     "name": "stdout",
     "output_type": "stream",
     "text": [
      "John's average score: 116.67\n",
      "Bob's average score: 200.0\n",
      "Jane's average score: 160.0\n",
      "Dave's average score: 296.67\n",
      "Jenny's average score: 181.67\n"
     ]
    }
   ],
   "source": [
    "# Write your answer here\n",
    "\n",
    "for name,r1,r2,r3 in zip(player_names, round1, round2, round3):\n",
    "    avg_score = (r1 + r2 + r3) / 3\n",
    "    decimal2_average_score = round(avg_score, 2)  #Round to two decimal places\n",
    "    print(f\"{name}'s average score: { decimal2_average_score}\")  #Print the player's name and average score"
   ]
  },
  {
   "cell_type": "markdown",
   "metadata": {},
   "source": [
    "### e) Simulating and Visualizing \n",
    "- We will generate and plot multiple histograms of sample means for the **log-normal** distribution.\n",
    "\n",
    "- The log-normal distribution arises by raising Euler's number ($\\mathrm{e}$) to the power of a number drawn from a normal distribution. This is the *underlying* normal distribution.\n",
    "\n",
    "- If $\\mu$ is the mean of the underlying normal distribution, and $\\sigma$ is the standard deviation of the underlying normal distribution, then:\n",
    "$$ \\textrm{mean of log-normal distribution } = \\mathrm{e}^{\\mu + \\frac{\\sigma^2}{2}} = \\exp\\left(\\mu + \\frac{\\sigma^2}{2} \\right)$$\n",
    "\n",
    "- For this question, we will use $\\mu = 1$ and $\\sigma = 0.5$\n",
    "\n",
    "- Generate and plot multiple histograms showing the frequency of sample means computed with different sample sizes:\n",
    "\n",
    "    - Create 3 histograms: one with sample size 10, one with sample size 100, and one <br>with sample size 1000.\n",
    "    - Make sure that the number of simulations is the same for all three (keep the number <br> of simulations set to 2000)\n",
    "\n",
    "- Using your histograms from the question above, how does the sample size affect the <br> distribution of the sample means? Answer this question in a markdown cell or as a comment in a Python cell.\n",
    "\n",
    "- **Hint**: you will want to use the function ``np.random.lognormal``"
   ]
  },
  {
   "cell_type": "markdown",
   "metadata": {},
   "source": [
    "### Write your answers in the cells below"
   ]
  },
  {
   "cell_type": "code",
   "execution_count": 38,
   "metadata": {},
   "outputs": [
    {
     "data": {
      "text/plain": [
       "(0.0, 200.0)"
      ]
     },
     "execution_count": 38,
     "metadata": {},
     "output_type": "execute_result"
    },
    {
     "data": {
      "image/png": "[encoded data removed]",
      "text/plain": [
       "<Figure size 600x400 with 1 Axes>"
      ]
     },
     "metadata": {},
     "output_type": "display_data"
    }
   ],
   "source": [
    "# Sample Size 10\n",
    "\n",
    "np.random.seed(1234) # set the seed for reproducibility\n",
    "num_simulations = 2000\n",
    "\n",
    "# complete the code\n",
    "fig, subfig_array = plt.subplots(1, 1, figsize=(6,4))\n",
    "# Parameters\n",
    "num_simulations = 2000\n",
    "sample_size = 10\n",
    "xmin = 1.5\n",
    "xmax = 5.5\n",
    "ymax = 200\n",
    "\n",
    "# Pre-allocate array for sample means\n",
    "vec_xbar = np.zeros(num_simulations)\n",
    "\n",
    "# Run simulations\n",
    "for iteration in range(num_simulations):\n",
    "    vec_lognormal = np.random.lognormal(mean=1, sigma=0.5, size=sample_size)\n",
    "    vec_xbar[iteration] = vec_lognormal.mean()\n",
    " \n",
    "\n",
    "subfig_array.hist(vec_xbar, bins=30)\n",
    "subfig_array.set_title(f\"Distribution of Xbar with size {sample_size}\")\n",
    "subfig_array.set_ylabel(\"Frequency\")\n",
    "subfig_array.set_xlabel(\"Values of Xbar\")\n",
    "subfig_array.set_xlim(xmin, xmax)\n",
    "subfig_array.set_ylim(top=ymax)\n"
   ]
  },
  {
   "cell_type": "code",
   "execution_count": 39,
   "metadata": {},
   "outputs": [
    {
     "data": {
      "text/plain": [
       "(0.0, 200.0)"
      ]
     },
     "execution_count": 39,
     "metadata": {},
     "output_type": "execute_result"
    },
    {
     "data": {
      "image/png": "[encoded data removed]",
      "text/plain": [
       "<Figure size 600x400 with 1 Axes>"
      ]
     },
     "metadata": {},
     "output_type": "display_data"
    }
   ],
   "source": [
    "# Sample Size 100\n",
    "\n",
    "np.random.seed(1234) # set the seed for reproducibility\n",
    "num_simulations = 2000\n",
    "\n",
    "\n",
    "# complete the code\n",
    "\n",
    "fig, subfig_array = plt.subplots(1, 1, figsize=(6,4))\n",
    "# Parameters\n",
    "num_simulations = 2000\n",
    "sample_size = 100\n",
    "xmin = 1.5\n",
    "xmax = 5.5\n",
    "ymax = 200\n",
    "\n",
    "# Pre-allocate array for sample means\n",
    "vec_xbar = np.zeros(num_simulations)\n",
    "\n",
    "# Run simulations\n",
    "for iteration in range(num_simulations):\n",
    "    vec_lognormal = np.random.lognormal(mean=1, sigma=0.5, size=sample_size)\n",
    "    vec_xbar[iteration] = vec_lognormal.mean()\n",
    " \n",
    "\n",
    "subfig_array.hist(vec_xbar, bins=30)\n",
    "subfig_array.set_title(f\"Distribution of Xbar with size {sample_size}\")\n",
    "subfig_array.set_ylabel(\"Frequency\")\n",
    "subfig_array.set_xlabel(\"Values of Xbar\")\n",
    "subfig_array.set_xlim(xmin, xmax)\n",
    "subfig_array.set_ylim(top=ymax)\n"
   ]
  },
  {
   "cell_type": "code",
   "execution_count": 40,
   "metadata": {},
   "outputs": [
    {
     "data": {
      "text/plain": [
       "(0.0, 200.0)"
      ]
     },
     "execution_count": 40,
     "metadata": {},
     "output_type": "execute_result"
    },
    {
     "data": {
      "image/png": "[encoded data removed]",
      "text/plain": [
       "<Figure size 600x400 with 1 Axes>"
      ]
     },
     "metadata": {},
     "output_type": "display_data"
    }
   ],
   "source": [
    "# Sample Size 1000\n",
    "\n",
    "np.random.seed(1234) # set the seed for reproducibility\n",
    "num_simulations = 2000\n",
    "\n",
    "\n",
    "# complete the code\n",
    "# complete the code\n",
    "fig, subfig_array = plt.subplots(1, 1, figsize=(6,4))\n",
    "# Parameters\n",
    "num_simulations = 2000\n",
    "sample_size = 1000\n",
    "xmin = 1.5\n",
    "xmax = 5.5\n",
    "ymax = 200\n",
    "\n",
    "# Pre-allocate array for sample means\n",
    "vec_xbar = np.zeros(num_simulations)\n",
    "\n",
    "# Run simulations\n",
    "for iteration in range(num_simulations):\n",
    "    vec_lognormal = np.random.lognormal(mean=1, sigma=0.5, size=sample_size)\n",
    "    vec_xbar[iteration] = vec_lognormal.mean()\n",
    " \n",
    "\n",
    "subfig_array.hist(vec_xbar, bins=30)\n",
    "subfig_array.set_title(f\"Distribution of Xbar with size {sample_size}\")\n",
    "subfig_array.set_ylabel(\"Frequency\")\n",
    "subfig_array.set_xlabel(\"Values of Xbar\")\n",
    "subfig_array.set_xlim(xmin, xmax)\n",
    "subfig_array.set_ylim(top=ymax)\n"
   ]
  },
  {
   "cell_type": "code",
   "execution_count": null,
   "metadata": {},
   "outputs": [],
   "source": [
    "# How does the sample size affect the distribution of the sample means?\n",
    "\n",
    "# Write your answer as a comment below, or create a markdown cell.\n",
    "\n",
    "# We can see that as the sample size increases, the distribution of the sample means becomes more \n",
    "# concentrated around the true mean of the population. Therfore, the larger the sample size, the less \n",
    "# deviation from the true mean. The graphs with larger sizes have lower variance and have a more normal \n",
    "# distrabution. This can be seen in the sample size of 10, where the grapgh looks skewed right. \n"
   ]
  }
 ],
 "metadata": {
  "kernelspec": {
   "display_name": "base",
   "language": "python",
   "name": "python3"
  },
  "language_info": {
   "codemirror_mode": {
    "name": "ipython",
    "version": 3
   },
   "file_extension": ".py",
   "mimetype": "text/x-python",
   "name": "python",
   "nbconvert_exporter": "python",
   "pygments_lexer": "ipython3",
   "version": "3.13.5"
  }
 },
 "nbformat": 4,
 "nbformat_minor": 2
}

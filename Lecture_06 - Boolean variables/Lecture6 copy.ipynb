{
 "cells": [
  {
   "cell_type": "markdown",
   "id": "a4a8830a",
   "metadata": {},
   "source": [
    "# <span style=\"color:darkblue\"> Lecture 6: Boleean variables and if/else statements </span>"
   ]
  },
  {
   "cell_type": "markdown",
   "id": "08b78fe0",
   "metadata": {},
   "source": [
    "<font size=\"5\"> \n",
    "\n",
    "In the previous class we:\n",
    "- Introduced lists and NumPy arrays\n",
    "- Discussed mathematical operations on NumPy arrays"
   ]
  },
  {
   "cell_type": "markdown",
   "id": "3bda2862",
   "metadata": {},
   "source": [
    "<font size=\"5\"> \n",
    "\n",
    "In this class we will:\n",
    "\n",
    "- Introduce **boolean** objects\n",
    "- Test different categories of expressions with text and numbers\n",
    "- Study if/else statements"
   ]
  },
  {
   "cell_type": "code",
   "execution_count": 1,
   "id": "a5cd258e",
   "metadata": {},
   "outputs": [],
   "source": [
    "import numpy as np\n",
    "import matplotlib.pyplot as plt"
   ]
  },
  {
   "cell_type": "markdown",
   "id": "4b696139",
   "metadata": {},
   "source": [
    "## <span style=\"color:darkblue\"> I. Boolean objects </span>\n",
    "\n",
    "### Out of the many built-in objects in Python, two of them are of \"Boolean\" type. These are the objects ``True`` and ``False``"
   ]
  },
  {
   "cell_type": "code",
   "execution_count": 2,
   "id": "2a13f26c",
   "metadata": {},
   "outputs": [
    {
     "name": "stdout",
     "output_type": "stream",
     "text": [
      "<class 'bool'>\n"
     ]
    }
   ],
   "source": [
    "print(type(True))\n"
   ]
  },
  {
   "cell_type": "code",
   "execution_count": 3,
   "id": "e52eeedc",
   "metadata": {},
   "outputs": [
    {
     "name": "stdout",
     "output_type": "stream",
     "text": [
      "<class 'bool'>\n"
     ]
    }
   ],
   "source": [
    "print(type(False))"
   ]
  },
  {
   "cell_type": "markdown",
   "id": "bf1b3597",
   "metadata": {},
   "source": [
    "### These should not be confused with the strings \"True\" and \"False\""
   ]
  },
  {
   "cell_type": "code",
   "execution_count": 4,
   "id": "829227dd",
   "metadata": {},
   "outputs": [
    {
     "name": "stdout",
     "output_type": "stream",
     "text": [
      "<class 'bool'>\n",
      "<class 'str'>\n"
     ]
    }
   ],
   "source": [
    "print(type(True)) # Boolean object\n",
    "print(type(\"True\")) # String"
   ]
  },
  {
   "cell_type": "code",
   "execution_count": 5,
   "id": "9b3f6123",
   "metadata": {},
   "outputs": [
    {
     "name": "stdout",
     "output_type": "stream",
     "text": [
      "<class 'bool'>\n",
      "<class 'str'>\n"
     ]
    }
   ],
   "source": [
    "print(type(False)) # Boolean object\n",
    "print(type(\"False\")) # String"
   ]
  },
  {
   "cell_type": "markdown",
   "id": "0dbb3cbd",
   "metadata": {},
   "source": [
    "### What is a Boolean object? It is just an object that can take one of two possible values. In this case, True and False"
   ]
  },
  {
   "cell_type": "markdown",
   "id": "45e617b8",
   "metadata": {},
   "source": [
    "## <span style=\"color:darkblue\"> II. Comparison operators </span>\n",
    "\n",
    "- ### One of the most common ways Boolean objects show up is in the use of **comparison operators**.\n",
    "- ### These are operators used to compare two values, and return either ``True`` or ``False``.\n",
    "- ### There are six basic comparison operators. The first four are:\n",
    "    - #### ``>`` - Greater than\n",
    "    - #### ``<`` - Less than\n",
    "    - #### ``>=`` - Greater than or equal to\n",
    "    - #### ``<=`` - Less than or equal to"
   ]
  },
  {
   "cell_type": "code",
   "execution_count": 7,
   "id": "944c9145",
   "metadata": {},
   "outputs": [
    {
     "name": "stdout",
     "output_type": "stream",
     "text": [
      "True\n",
      "False\n",
      "True\n",
      "False\n"
     ]
    }
   ],
   "source": [
    "# Test if one number is greater than the other\n",
    "print(5 > 3)\n",
    "\n",
    "print(3 > 9)\n",
    "\n",
    "print(4 + 3 > 6)\n",
    "\n",
    "print(3>3)\n"
   ]
  },
  {
   "cell_type": "code",
   "execution_count": null,
   "id": "f6bf0cc9",
   "metadata": {},
   "outputs": [],
   "source": [
    "# Test if one number is less than the other\n",
    "print(0 < -2.5)\n",
    "\n",
    "print(1 < 1.01)\n",
    "\n",
    "print(30/10 < 1)"
   ]
  },
  {
   "cell_type": "code",
   "execution_count": 8,
   "id": "a858000a",
   "metadata": {},
   "outputs": [
    {
     "name": "stdout",
     "output_type": "stream",
     "text": [
      "True\n",
      "False\n",
      "False\n"
     ]
    }
   ],
   "source": [
    "# Test if one number is greater that or equal to the other\n",
    "print(10 >= 1)\n",
    "\n",
    "print(8 >= 50)\n",
    "\n",
    "print(2**3 >= 10)"
   ]
  },
  {
   "cell_type": "code",
   "execution_count": 9,
   "id": "6c2ef0a8",
   "metadata": {},
   "outputs": [
    {
     "name": "stdout",
     "output_type": "stream",
     "text": [
      "False\n",
      "True\n"
     ]
    }
   ],
   "source": [
    "# Greater than OR equal to!\n",
    "print(5 > 5) # this is false\n",
    "print(5 >= 5) # this is true, since 5 equals 5"
   ]
  },
  {
   "cell_type": "code",
   "execution_count": null,
   "id": "f8fcea5d",
   "metadata": {},
   "outputs": [],
   "source": [
    "# Test if one number is less than or equal to the other\n",
    "print(10 <= 1)\n",
    "\n",
    "print(8 <= 50)\n",
    "\n",
    "print(2**3 <= 10)"
   ]
  },
  {
   "cell_type": "markdown",
   "id": "936cc2b5",
   "metadata": {},
   "source": [
    "#### Two more basic comparison operators\n",
    "- #### ``==`` - Equal\n",
    "- #### ``!=`` - Not equal\n",
    "\n",
    "#### **Warning**: Do not confuse the assignment operator ``=`` with the comparison operator that tests for equality ``==``"
   ]
  },
  {
   "cell_type": "code",
   "execution_count": 12,
   "id": "cf402a50",
   "metadata": {},
   "outputs": [
    {
     "name": "stdout",
     "output_type": "stream",
     "text": [
      "True\n",
      "False\n",
      "True\n"
     ]
    }
   ],
   "source": [
    "# Does 5*3 equal 15? (Yes)\n",
    "print(5*3 == 15)\n",
    "\n",
    "# Does 3 - 2 equal 7? (No)\n",
    "print(3 - 2 == 7)\n",
    "\n",
    "print(5**3 != 4)"
   ]
  },
  {
   "cell_type": "code",
   "execution_count": null,
   "id": "ae6fc9bd",
   "metadata": {},
   "outputs": [],
   "source": [
    "# Is 5*3 + 1 different from 20? (yes)\n",
    "print(5*3 + 1 != 20)\n",
    "\n",
    "# Is 10/5 different from 2? (no)\n",
    "print(10/5 != 2)"
   ]
  },
  {
   "cell_type": "markdown",
   "id": "6467cd9c",
   "metadata": {},
   "source": [
    "#### In most cases, we use a comparison operator with one or more variables "
   ]
  },
  {
   "cell_type": "code",
   "execution_count": 15,
   "id": "c49be889",
   "metadata": {},
   "outputs": [
    {
     "name": "stdout",
     "output_type": "stream",
     "text": [
      "False\n",
      "True\n",
      "True\n"
     ]
    }
   ],
   "source": [
    "x = np.sin(12*np.pi/7)\n",
    "print(x > 0)\n",
    "\n",
    "# are these the side lenths of a right triangle?\n",
    "a = 3\n",
    "b = 4\n",
    "c = 5\n",
    "print(a**2 + b**2 == c**2)  \n",
    "\n",
    "f = (10>2)\n",
    "print(f)"
   ]
  },
  {
   "cell_type": "markdown",
   "id": "3417c27c",
   "metadata": {},
   "source": [
    "## <span style=\"color:darkblue\"> III. Strings and Lists </span>\n",
    "\n",
    "- ##### The \"equals to\" comparison and \"not equals to\" comparison extend naturally to strings and lists\n",
    "- ##### If every character in a string matches another string **exactly**, then they are equal.\n",
    "- ##### If every element in a list matches **every** element in another list, then they are equal. **Order of the elements matters**"
   ]
  },
  {
   "cell_type": "code",
   "execution_count": 16,
   "id": "929b189e",
   "metadata": {},
   "outputs": [
    {
     "name": "stdout",
     "output_type": "stream",
     "text": [
      "True\n",
      "False\n",
      "True\n",
      "False\n"
     ]
    }
   ],
   "source": [
    "x = \"Hello World!\"\n",
    "y = \"Hello World !\"\n",
    "\n",
    "print(x == \"Hello World!\")\n",
    "print(y == \"Hello World!\")\n",
    "\n",
    "print(x != y)\n",
    "\n",
    "print('ab' == 'ba')"
   ]
  },
  {
   "cell_type": "code",
   "execution_count": null,
   "id": "c24e823c",
   "metadata": {},
   "outputs": [
    {
     "name": "stdout",
     "output_type": "stream",
     "text": [
      "True\n",
      "False\n",
      "False\n",
      "True\n"
     ]
    }
   ],
   "source": [
    "list_1 = [\"blue\", \"red\", \"green\"]\n",
    "list_2 = [\"blue\", \"red\", \"green\"]\n",
    "list_3 = [\"red\", \"green\", \"blue\"]\n",
    "list_4 = [\"red\", \"green\", \"blue\", \"violet\"]\n",
    "\n",
    "print(list_1 == list_2) # true: same elements, same ordering\n",
    "print(list_1 == list_3) # False: different ordering\n",
    "print(list_3 == list_4) # False: different number of elements\n",
    "print(list_3 != list_4) # True"
   ]
  },
  {
   "cell_type": "markdown",
   "id": "606728da",
   "metadata": {},
   "source": [
    "#### The other comparison operators \"<\", \">\", \"<=\", and \">=\" can also be used for strings and lists. However, the behavior is not obvious. See the exercises for more."
   ]
  },
  {
   "cell_type": "markdown",
   "id": "369f88f7",
   "metadata": {},
   "source": [
    "## <span style=\"color:darkblue\"> IV. NumPy Arrays </span>"
   ]
  },
  {
   "cell_type": "markdown",
   "id": "c5614eb0",
   "metadata": {},
   "source": [
    "#### When comparing Numpy arrays, a separate Boolean expression is returned for **each element**"
   ]
  },
  {
   "cell_type": "code",
   "execution_count": null,
   "id": "948677f4",
   "metadata": {},
   "outputs": [
    {
     "name": "stdout",
     "output_type": "stream",
     "text": [
      "[ True  True False]\n",
      "[False False False]\n"
     ]
    }
   ],
   "source": [
    "vec_a = np.array([1,2,3])\n",
    "vec_b = np.array([1,2,4])\n",
    "\n",
    "print(vec_a == vec_b) # element-wise comparison\n",
    "\n",
    "vec_c = np.array([10, 5, 3])\n",
    "vec_d = np.array([20, 10, 8])\n",
    "print(vec_c >= vec_d)"
   ]
  },
  {
   "cell_type": "markdown",
   "id": "cf72d14e",
   "metadata": {},
   "source": [
    "## <span style=\"color:darkblue\"> V. The \"in\" keyword </span>\n",
    "\n",
    "#### This keyword allows us to test whether\n",
    "- #### A character appears in a string\n",
    "- #### An object appears in a list\n",
    "- #### A number appears in a numpy array"
   ]
  },
  {
   "cell_type": "code",
   "execution_count": 23,
   "id": "b2e5e8e5",
   "metadata": {},
   "outputs": [
    {
     "name": "stdout",
     "output_type": "stream",
     "text": [
      "True\n",
      "False\n",
      "True\n",
      "False\n"
     ]
    }
   ],
   "source": [
    "# The first way to use the \"in\" command is to check whether a word is contained \n",
    "# in a sentence. This can be useful if you're trying to search for patterns\n",
    "\n",
    "keyword = \"economic\"\n",
    "sentence = \"The Federal Reserve makes forecasts about many economic outcomes\"\n",
    "\n",
    "print(keyword in sentence) \n",
    "\n",
    "keyword = \"bank\"\n",
    "print(keyword in sentence)\n",
    "\n",
    "search_word = \"Federal\" \n",
    "print(search_word in sentence)\n",
    "\n",
    "important_word = \"the\"\n",
    "print(important_word in sentence)"
   ]
  },
  {
   "cell_type": "code",
   "execution_count": 26,
   "id": "b7eba07a",
   "metadata": {},
   "outputs": [
    {
     "name": "stdout",
     "output_type": "stream",
     "text": [
      "False\n",
      "False\n"
     ]
    }
   ],
   "source": [
    "# Use the condition \"in\" to test whether a word is part of a list\n",
    "# when the right-hand size is a list \"word in list\" will search for an exact match\n",
    "\n",
    "current_month  = \"September\"\n",
    "list_1 = [1,2,2,3,4]\n",
    "list_summer_months = [\"June\",\"July\",\"August\",1,2,2,3,4]\n",
    "\n",
    "print(current_month in list_summer_months)\n",
    "print(list_1 in list_summer_months)"
   ]
  },
  {
   "cell_type": "code",
   "execution_count": 27,
   "id": "b67ea24d",
   "metadata": {},
   "outputs": [
    {
     "name": "stdout",
     "output_type": "stream",
     "text": [
      "True\n"
     ]
    }
   ],
   "source": [
    "# Use the keyword \"in\" to see if a number belongs to a NumPy Array\n",
    "# (Also works for lists)\n",
    "\n",
    "s = np.array([1.0, 3.0, -17, 12])\n",
    "print(1 in s)"
   ]
  },
  {
   "cell_type": "markdown",
   "id": "35b01adb",
   "metadata": {},
   "source": [
    "##  <span style=\"color:darkblue\"> VI. Logical Operators </span>\n",
    "\n",
    "- #### Logical operators allow you to combine conditional statements\n",
    "- #### The three logical operators are \"not\", \"and\", \"or\""
   ]
  },
  {
   "cell_type": "code",
   "execution_count": 28,
   "id": "ea03ba31",
   "metadata": {},
   "outputs": [
    {
     "name": "stdout",
     "output_type": "stream",
     "text": [
      "True\n"
     ]
    }
   ],
   "source": [
    "age  = 22\n",
    "\n",
    "# True or false? This person can vote in the U.S.\n",
    "\n",
    "# 1st way to test it:\n",
    "print(age >= 18)"
   ]
  },
  {
   "cell_type": "code",
   "execution_count": 29,
   "id": "56ff730f",
   "metadata": {},
   "outputs": [
    {
     "name": "stdout",
     "output_type": "stream",
     "text": [
      "True\n"
     ]
    }
   ],
   "source": [
    "age  = 22\n",
    "\n",
    "# True or false? This person can vote in the U.S.\n",
    "\n",
    "# 2nd way to test it:\n",
    "print(not age < 18)"
   ]
  },
  {
   "cell_type": "code",
   "execution_count": 31,
   "id": "f92bfd1e",
   "metadata": {},
   "outputs": [
    {
     "name": "stdout",
     "output_type": "stream",
     "text": [
      "True\n"
     ]
    }
   ],
   "source": [
    "price = 24.5\n",
    "\n",
    "# True or false? The price is greater than 10 dollars \n",
    "# and less than or equal to 20 dollars.\n",
    "\n",
    "print(price > 10 and price >= 20)"
   ]
  },
  {
   "cell_type": "code",
   "execution_count": 32,
   "id": "65d657c9",
   "metadata": {},
   "outputs": [
    {
     "name": "stdout",
     "output_type": "stream",
     "text": [
      "True\n",
      "False\n",
      "False\n"
     ]
    }
   ],
   "source": [
    "# can assign Boolean objects to variables\n",
    "\n",
    "price = 24.5\n",
    "\n",
    "statement_1 = price > 10\n",
    "statement_2 = price <= 20\n",
    "\n",
    "print(statement_1)\n",
    "print(statement_2)\n",
    "print(statement_1 and statement_2)"
   ]
  },
  {
   "cell_type": "markdown",
   "id": "5d2cf109",
   "metadata": {},
   "source": [
    "#### **Both** statements must be true for [statement_1] and [statement_2] to be true\n",
    "\n",
    "#### To test if **at least** one statment is true, use the \"or\" operator"
   ]
  },
  {
   "cell_type": "code",
   "execution_count": null,
   "id": "0e8785cb",
   "metadata": {},
   "outputs": [
    {
     "name": "stdout",
     "output_type": "stream",
     "text": [
      "True\n",
      "\n",
      "True\n",
      "\n",
      "False\n",
      "\n"
     ]
    }
   ],
   "source": [
    "st_1 = 5 > 3\n",
    "st_2 = 1 >= 2000\n",
    "\n",
    "print(st_1 or st_2)\n",
    "print()\n",
    "\n",
    "st_3 = 9 < 19\n",
    "st_4 = 0 < 1\n",
    "print(st_3 or st_4)\n",
    "print()\n",
    "\n",
    "st_5 = -1 >= 10\n",
    "st_6 = 12 > 13\n",
    "print(st_5 or st_6)\n",
    "print()"
   ]
  },
  {
   "cell_type": "markdown",
   "id": "0bb1b635",
   "metadata": {},
   "source": [
    "#### While not necessary, can separate statements with parentheses for readibility"
   ]
  },
  {
   "cell_type": "code",
   "execution_count": null,
   "id": "9dd9e546",
   "metadata": {},
   "outputs": [
    {
     "name": "stdout",
     "output_type": "stream",
     "text": [
      "True\n",
      "True\n"
     ]
    }
   ],
   "source": [
    "x = 13\n",
    "y = -5\n",
    "z = False\n",
    "\n",
    "P = (x > y) and (not z) and (x*y < 0)\n",
    "print(P)\n",
    "\n",
    "Q = (x == 5) or (y > 10) or (x + y > 0) # Will be true as long as one of these conditions is true\n",
    "print(Q)\n",
    "\n",
    "# try changing some of these conditions to experiment"
   ]
  },
  {
   "cell_type": "markdown",
   "id": "7ce2b625",
   "metadata": {},
   "source": [
    "##  <span style=\"color:darkblue\"> VII. Flow Control (if/elif/else) </span>\n",
    "\n",
    "<font size = \"5\">\n",
    "\n",
    "- Used to adapt the code to different logical conditions\n",
    "- Very helpful when loading, analyzing, and cleaning data!"
   ]
  },
  {
   "cell_type": "markdown",
   "id": "a17d8384",
   "metadata": {},
   "source": [
    "<font size = \"5\">\n",
    "\n",
    "<table><tr>\n",
    "<td> <img src=\"figures/if.png\" alt=\"drawing\" width=\"300\"/>  </td>\n",
    "<td>  Running a part of the code <br>\n",
    "only if a condition is met: <br>\n",
    "\n",
    "``` python\n",
    "    if test_expression:\n",
    "        Body\n",
    "```\n",
    " </td>\n",
    "</tr></table>"
   ]
  },
  {
   "cell_type": "code",
   "execution_count": null,
   "id": "d06967cd",
   "metadata": {},
   "outputs": [
    {
     "ename": "SyntaxError",
     "evalue": "invalid syntax (1093582673.py, line 20)",
     "output_type": "error",
     "traceback": [
      "\u001b[1;36m  Cell \u001b[1;32mIn[51], line 20\u001b[1;36m\u001b[0m\n\u001b[1;33m    if any_questions ==:\u001b[0m\n\u001b[1;37m                       ^\u001b[0m\n\u001b[1;31mSyntaxError\u001b[0m\u001b[1;31m:\u001b[0m invalid syntax\n"
     ]
    }
   ],
   "source": [
    "#------------------------------------------------------------------------------#\n",
    "#--------------------------- EXPLANATION OF \"IF\" SYNTAX -------------------------#\n",
    "#\n",
    "# Test expression\n",
    "#---- We type \"if\" followed by a logical condition and the \":\" symbol.\n",
    "#---- The \":\" indicates that an indented code block is starting\n",
    "#\n",
    "# Body of expression\n",
    "#---- The \"body\" of the \"if\" statement needs to indented\n",
    "#---- You can indent text by pressing the \"tab\" button in your keyborad.\n",
    "#\n",
    "# If the condition is true, the code in the indented block will be run\n",
    "# If the condition is false, then the indented block is skipped\n",
    "#------------------------------------------------------------------------------#\n",
    "\n",
    "\n",
    "# We start by defining a string\n",
    "any_questions = true\n",
    "\n",
    "if any_questions == :\n",
    "    print(\"Need to give more explanation\") "
   ]
  },
  {
   "cell_type": "code",
   "execution_count": 52,
   "id": "e147913d",
   "metadata": {},
   "outputs": [
    {
     "name": "stdout",
     "output_type": "stream",
     "text": [
      "Need to give more explanation\n"
     ]
    }
   ],
   "source": [
    "### Alternatively\n",
    "any_questions = True\n",
    "\n",
    "if any_questions:\n",
    "    print(\"Need to give more explanation\")"
   ]
  },
  {
   "cell_type": "markdown",
   "id": "4af3733e",
   "metadata": {},
   "source": [
    "<font size = \"5\">\n",
    "\n",
    "<table><tr>\n",
    "<td> <img src=\"figures/ifelse.png\" alt=\"drawing\" width=\"300\"/>  </td>\n",
    "<td>  Running two different lines of code <br>\n",
    "depending on a condition <br>\n",
    "\n",
    "``` python\n",
    "    if test_expression:\n",
    "        Body\n",
    "    else:\n",
    "        Body\n",
    "```\n",
    "\n",
    " </td>\n",
    "</tr></table>"
   ]
  },
  {
   "cell_type": "code",
   "execution_count": 54,
   "id": "cb059800",
   "metadata": {},
   "outputs": [
    {
     "data": {
      "image/png": "[encoded data removed]",
      "text/plain": [
       "<Figure size 640x480 with 1 Axes>"
      ]
     },
     "metadata": {},
     "output_type": "display_data"
    }
   ],
   "source": [
    "#------------------------------------------------------------------------------#\n",
    "#--------------------------- EXPLANATION OF IF/ELSE SYNTAX --------------------#\n",
    "#\n",
    "# If/else statements are useful to run different types of commands\n",
    "# depending on a user-specified input, or conditions satisfied by the data\n",
    "#\n",
    "# This code prints a red graph if \"is_red_graph\" is set to \"True\"\n",
    "# and outputs a purple graph otherwise.\n",
    "#\n",
    "# Common notation: The prefix \"is_\" denotes boleean variables\n",
    "#\n",
    "# VIEWING OUTPUT:\n",
    "# You can guarantee that the graph appears with plt.show()\n",
    "#------------------------------------------------------------------------------#\n",
    "\n",
    "\n",
    "is_graph_red = True\n",
    "how_many_classes = np.array([1,2,2,3,4,5,5,5,6,7,8])    \n",
    "\n",
    "if is_graph_red:\n",
    "    plt.hist(x = how_many_classes, color=\"red\")\n",
    "    plt.title(\"Count of students in each category\")\n",
    "    plt.xlabel(\"How many classes are you taking?\")\n",
    "    plt.show() \n",
    "else:\n",
    "    plt.hist(x = how_many_classes, color=\"purple\")\n",
    "    plt.title(\"Count of students in each category\")\n",
    "    plt.xlabel(\"How many classes are you taking?\")\n",
    "    plt.show()"
   ]
  },
  {
   "cell_type": "markdown",
   "id": "679fa876",
   "metadata": {},
   "source": [
    "<font size = \"5\">\n",
    "What happens if ... ? Try the following:\n",
    "<br>\n",
    "\n",
    "- What happens if you set a non-boolean value of \"is_graph_red\"?\n",
    "- Don't include \":\"\n",
    "- Don't indent the body of the \"if\""
   ]
  },
  {
   "cell_type": "markdown",
   "id": "cae6c282",
   "metadata": {},
   "source": [
    "<font size = \"5\">\n",
    "\n",
    "<table><tr>\n",
    "<td> <img src=\"figures/elif.png\" alt=\"drawing\" width=\"300\"/>  </td>\n",
    "<td>  Running multiple different lines of code <br>\n",
    "depending on a series of conditions <br>\n",
    "\n",
    "``` python\n",
    "    if test_expression:\n",
    "        Body\n",
    "    elif test_expression:\n",
    "        Body\n",
    "    else: \n",
    "        Body\n",
    "```\n",
    "\n",
    " </td>\n",
    "</tr></table>"
   ]
  },
  {
   "cell_type": "code",
   "execution_count": 58,
   "id": "f2cf313a",
   "metadata": {},
   "outputs": [
    {
     "name": "stdout",
     "output_type": "stream",
     "text": [
      "This student is a senior\n"
     ]
    }
   ],
   "source": [
    "# The elif (a shorthand for elif) is a good alternative to evaluate\n",
    "# mutually exclusive options\n",
    "\n",
    "years_in_program = \"bam\"\n",
    "\n",
    "if years_in_program == 1:\n",
    "    print(\"This student is a freshman\")\n",
    "elif years_in_program == 2:\n",
    "    print(\"This student is a sophomore\")\n",
    "elif years_in_program == 3:\n",
    "    print(\"This student is a junior\")\n",
    "else:\n",
    "    print(\"This student is a senior\")\n"
   ]
  },
  {
   "cell_type": "markdown",
   "id": "ab6b3508",
   "metadata": {},
   "source": [
    "##  <span style=\"color:darkblue\"> Exercises </span>"
   ]
  },
  {
   "cell_type": "markdown",
   "id": "1b863c49",
   "metadata": {},
   "source": [
    "<font size = \"5\">\n",
    "Letter Grade\n",
    "<br>\n",
    "\n",
    "- Create a variable called \"points\" with a value between 0 and 100\n",
    "- Write a flow with \"if\", \"elif\" and \"else\" to assign the letter grade, depending on whether \n",
    "    - $\\textrm{points} >= 93$\n",
    "    - $93 > \\textrm{points} >= 87$\n",
    "    - $87 > \\textrm{points} >= 83$\n",
    "    - $87 > \\textrm{points} >= 83$,\n",
    "    - ...\n",
    "    - $55 > \\textrm{points}$\n",
    "\n",
    "- In the body, store the output in a new variable called \"letter_grade\"\n",
    "- Print the letter grade at the end\n",
    "\n",
    "<img src=\"figures/grading_scale.png\" alt=\"drawing\" width=\"700\"/>\n",
    "\n",
    "Important: Check that it works by trying different values of \"points\"!"
   ]
  },
  {
   "cell_type": "code",
   "execution_count": null,
   "id": "d87191c7",
   "metadata": {},
   "outputs": [],
   "source": [
    "points = 100 # change to different values\n",
    "\n",
    "# remove the \"#\" below to choose a random value for points\n",
    "# points = np.random.uniform(low = 40, high = 100)\n",
    "\n",
    "\n",
    "# your code below\n",
    "\n"
   ]
  },
  {
   "cell_type": "markdown",
   "id": "010ef976",
   "metadata": {},
   "source": [
    "<font size = \"5\">\n",
    "\n",
    "Letter Grade - part 2\n",
    "<br>\n",
    "\n",
    "- Create a variable called \"points\" with a value between 0 and 100\n",
    "- Again, we will define a variable called \"letter_grade\".\n",
    "- The flow will have two steps:\n",
    "    - 1. Check whether the letter grade will be an \"A\", \"B\", \"C\", \"D\", or \"F\"\n",
    "    - 2. If the grade is an \"A\", \"B\", or \"C\", check whether a \"+\" or \"-\" needs to be appended at the end of \"letter_grade\"\n",
    "- Print the value of \"letter_grade\" at the end"
   ]
  },
  {
   "cell_type": "code",
   "execution_count": null,
   "id": "24ab1092",
   "metadata": {},
   "outputs": [],
   "source": [
    "points = 100 # change to different values\n",
    "\n",
    "# remove the \"#\" below to choose a random value for points\n",
    "# points = np.random.uniform(low = 40, high = 100)\n",
    "\n",
    "\n",
    "# your code below\n",
    "\n"
   ]
  },
  {
   "cell_type": "markdown",
   "id": "4d4ffb49",
   "metadata": {},
   "source": [
    "<font size = \"5\">\n",
    "\n",
    "Threshold testing a sum\n",
    "<br>\n",
    "\n",
    "- Create a numeric vector (array), $ c = \\begin{bmatrix} 1 \\\\ 2 \\\\ 3 \\end{bmatrix} $\n",
    "- Use the \"numpy.sum()\"' function to add up the individual elements.\n",
    "- If the sum of numbers is higher than $5$, write a message saying <br>\n",
    "\" The sum is greater than or equal to 5\"\n",
    "- Otherwise show a message \"It is strictly less than 5\""
   ]
  },
  {
   "cell_type": "code",
   "execution_count": null,
   "id": "f3f010b8",
   "metadata": {},
   "outputs": [],
   "source": [
    "# your code here\n",
    "\n"
   ]
  },
  {
   "cell_type": "markdown",
   "id": "5e7ffa59",
   "metadata": {},
   "source": [
    "<font size = \"5\">\n",
    "\n",
    "Comparing Strings\n",
    "<br>\n",
    "\n",
    "- Create a string with your first name (first letter capitalized) and save it to a variable ``my_name``\n",
    "- Turn to a classmate and create a string with their first name (first letter capitalized) and save it to a variable ``classmate_name``\n",
    "- Test whether or not your name is \"greater than\" your classmate's name. What rule do you think Python uses to determine this?"
   ]
  },
  {
   "cell_type": "code",
   "execution_count": 68,
   "id": "9c704250",
   "metadata": {},
   "outputs": [
    {
     "name": "stdout",
     "output_type": "stream",
     "text": [
      "True\n"
     ]
    }
   ],
   "source": [
    "# your code below\n",
    "\n",
    "my_name = \"Henry Spinella\"\n",
    "classmate_name = \"Bobbyyyyyyyyyyyyy\"\n",
    "\n",
    "print(my_name > classmate_name) # prints True if my_name is alphabetically after classmate_name\n",
    "\n"
   ]
  },
  {
   "cell_type": "markdown",
   "id": "eb194b11",
   "metadata": {},
   "source": [
    "#### Run the cell below. How do you explain the output you see?"
   ]
  },
  {
   "cell_type": "code",
   "execution_count": null,
   "id": "8ca91c61",
   "metadata": {},
   "outputs": [
    {
     "name": "stdout",
     "output_type": "stream",
     "text": [
      "True\n"
     ]
    }
   ],
   "source": [
    "list_1 = [0, 51, 0, 0, 0,0,0,100000]\n",
    "list_2 = [5, 50, 75, 100, -0.01]\n",
    "print(list_1 <= list_2) # whichever has the highest first number Since 0 < 5, this prints True"
   ]
  },
  {
   "cell_type": "markdown",
   "id": "037f115b",
   "metadata": {},
   "source": [
    "#### Guess what the output will be **before** running it. What is happening in the code?"
   ]
  },
  {
   "cell_type": "code",
   "execution_count": null,
   "id": "a37642ef",
   "metadata": {},
   "outputs": [],
   "source": [
    "# remove the \"#\" signs to change the comments into code\n",
    "\n",
    "# x = 7\n",
    "# y = 3\n",
    "\n",
    "# z = x*y + 9\n",
    "\n",
    "# q = z/10\n",
    "\n",
    "# x = x - q \n",
    "\n",
    "# x = x == 4\n",
    "\n",
    "# print(x)"
   ]
  },
  {
   "cell_type": "markdown",
   "id": "9728dae2",
   "metadata": {},
   "source": [
    "#### What will be printed after running the code cell? Answer **before** running it"
   ]
  },
  {
   "cell_type": "code",
   "execution_count": null,
   "id": "89b6212d",
   "metadata": {},
   "outputs": [],
   "source": [
    "# remove the \"#\" signs to change the comments into code\n",
    "\n",
    "# x = 0.1 + 0.1 + 0.1\n",
    "# y = 0.3\n",
    "\n",
    "# print(x == y)"
   ]
  },
  {
   "cell_type": "markdown",
   "id": "b271a8fa",
   "metadata": {},
   "source": [
    "#### Can you think of an optimal way of checking if two floating-point numbers are equal?"
   ]
  },
  {
   "cell_type": "code",
   "execution_count": null,
   "id": "68ebc033",
   "metadata": {},
   "outputs": [],
   "source": [
    "# experiment with different ideas here\n",
    "\n"
   ]
  }
 ],
 "metadata": {
  "kernelspec": {
   "display_name": "base",
   "language": "python",
   "name": "python3"
  },
  "language_info": {
   "codemirror_mode": {
    "name": "ipython",
    "version": 3
   },
   "file_extension": ".py",
   "mimetype": "text/x-python",
   "name": "python",
   "nbconvert_exporter": "python",
   "pygments_lexer": "ipython3",
   "version": "3.13.5"
  }
 },
 "nbformat": 4,
 "nbformat_minor": 5
}

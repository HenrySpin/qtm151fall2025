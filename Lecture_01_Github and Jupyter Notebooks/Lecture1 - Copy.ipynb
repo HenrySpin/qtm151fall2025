{
 "cells": [
  {
   "attachments": {},
   "cell_type": "markdown",
   "metadata": {},
   "source": [
    "# <span style=\"color:pink\" fontsize = 500> Lecture 1: Introduction to Jupyter Notebooks </span>"
   ]
  },
  {
   "cell_type": "markdown",
   "metadata": {},
   "source": [
    "<font size=\"100\"> \n",
    "\n",
    "The basic structure for running Python for data projects\n",
    "<img src=\"figures/project_flow.png\" alt=\"drawing\" width=\"650\"/>\n",
    "- Python is a general purpose language\n",
    "- Researchers and practitioners add new functionalities all the time\n",
    "- New features are included as libraries on top of the \"basic\" installation\n",
    "\n",
    "***"
   ]
  },
  {
   "cell_type": "markdown",
   "metadata": {},
   "source": [
    "# <span style=\"color:darkblue\"> STEP 0: Preliminaries </span>\n",
    "\n",
    "<font size=\"5\"> \n",
    "\n",
    "- A Virtual Environment is an isolated **directory/workspace** (folder in your computer) <br>\n",
    "that contains a specific **collection of packages**\n",
    "\n",
    "- A package is a folder containing a set of Python scripts or <br>\n",
    "modules which allow you to accomplish a defined task <br> \n",
    "(visualization, analysis, mathematical operations, etc.)"
   ]
  },
  {
   "cell_type": "markdown",
   "metadata": {},
   "source": [
    "<font size = \"5\">\n",
    "\n",
    "To manage packages open \"Anaconda Navigator\" on your <br>\n",
    "computer and go to the \"Environment\" Tab"
   ]
  },
  {
   "cell_type": "markdown",
   "metadata": {},
   "source": [
    "<img src=\"figures/anaconda_navigator_installed.png\" alt=\"drawing\" width=\"650\"/>"
   ]
  },
  {
   "cell_type": "markdown",
   "metadata": {},
   "source": [
    "<font size = \"5\">\n",
    "\n",
    "In the future, as your data analysis needs expand, <br>\n",
    "you way want to click on the \"Not installed\" packages <br>\n",
    "to download cool new packages!"
   ]
  },
  {
   "cell_type": "markdown",
   "metadata": {},
   "source": [
    "<img src=\"figures/anaconda_navigator_notinstalled.png\" alt=\"drawing\" width=\"650\"/>"
   ]
  },
  {
   "cell_type": "markdown",
   "metadata": {},
   "source": [
    "<font size = \"5\">\n",
    "\n",
    "Note: Anaconda does not list the default packages in <br>\n",
    "Python's **standard** library.  You have access to these too!<br>\n",
    "See [The Python Standard Library](https://docs.python.org/3/library/index.html) to see what's included. "
   ]
  },
  {
   "cell_type": "markdown",
   "metadata": {},
   "source": [
    "# <span style=\"color:darkblue\"> STEP 1: Setup Working Environment </span>\n",
    "\n",
    "<font size=\"5\"> \n",
    "\n",
    "(a) Double Check that Python is linked to VS Code\n",
    "\n",
    "<img src=\"figures/python_kernel.png\" alt=\"drawing\" width=\"650\"/>\n",
    "\n",
    "##### If not already linked, it will say \"Select Kernel\"\n",
    "##### Click button, choose \"Python Environments\", then select <br>\n",
    "##### the version of Python that contains the word \"anaconda\"\n"
   ]
  },
  {
   "cell_type": "markdown",
   "metadata": {},
   "source": [
    "<font size=\"5\"> \n",
    "\n",
    "(b) Try some basic Python commands\n",
    "- use \"print\" to display a message and some basic calculations"
   ]
  },
  {
   "cell_type": "code",
   "execution_count": null,
   "metadata": {},
   "outputs": [],
   "source": [
    "print(\"Hello World!\")\n",
    "print(2 + 3)\n",
    "print(3*4)\n",
    "print(2**3) # 2 raised to the third power"
   ]
  },
  {
   "cell_type": "markdown",
   "metadata": {},
   "source": [
    "### Let's try and compute $\\log_2(8)$ (which equals 3). \n",
    "### We will get our first error message!"
   ]
  },
  {
   "cell_type": "code",
   "execution_count": null,
   "metadata": {},
   "outputs": [],
   "source": [
    "import math\n",
    "print(math.log2(8))"
   ]
  },
  {
   "cell_type": "markdown",
   "metadata": {},
   "source": [
    "<font size = \"5\">\n",
    "\n",
    "(c) Import Packages (a.k.a. libraries):\n",
    "\n",
    "- Jupyter notebooks launches with very basic options\n",
    "- The \"import\" command adds libraries to the working enviroment. \n",
    "- Once imported, use \".\" to run subcommands contained in the library"
   ]
  },
  {
   "cell_type": "code",
   "execution_count": null,
   "metadata": {},
   "outputs": [],
   "source": [
    "import math\n",
    "print(math.log2(10))"
   ]
  },
  {
   "cell_type": "markdown",
   "metadata": {},
   "source": [
    "### Let's import the \"statistics\" library"
   ]
  },
  {
   "cell_type": "code",
   "execution_count": null,
   "metadata": {},
   "outputs": [],
   "source": [
    "import statistics\n",
    "\n",
    "print(statistics.mean([1, 7, 3, 5, 9, 1, 12]))\n",
    "print(statistics.median([1, 7, 3, 5, 9, 1, 12]))\n",
    "print(statistics.geometric_mean([1, 7, 3, 5, 9, 1, 12]))\n",
    "print(statistics.pstdev([1, 7, 3, 5, 9, 1, 12]))\n"
   ]
  },
  {
   "cell_type": "markdown",
   "metadata": {},
   "source": [
    "<font size = \"5\">\n",
    "\n",
    "(d) Import Packages with nicknames:\n",
    "\n",
    "- Typing \"statistics\" every single time you use that package can be a pain\n",
    "- To create nice plots, we will be using `matplotlib.pyplot` - long name!\n",
    "- Luckily, we can give the libraries a nickname with \"as\"\n",
    "- We will also use `pandas` - library for working with datasets"
   ]
  },
  {
   "cell_type": "code",
   "execution_count": 1,
   "metadata": {},
   "outputs": [
    {
     "name": "stdout",
     "output_type": "stream",
     "text": [
      "5.428571428571429\n",
      "[<matplotlib.lines.Line2D object at 0x000001685F732710>]\n"
     ]
    },
    {
     "data": {
      "image/png": "[encoded data removed]",
      "text/plain": [
       "<Figure size 640x480 with 1 Axes>"
      ]
     },
     "metadata": {},
     "output_type": "display_data"
    }
   ],
   "source": [
    "# This cell is a code cell. But adding \"#\" at the start of a line makes it a comment.\n",
    "# Comments are ignored by Python, but are useful for humans to understand the code.\n",
    "\n",
    "# Notes about nicknames:\n",
    "# - Import \"statistics\", but give it the nickname \"stats\"\n",
    "# - \"matplotlib.pyplot\" is a long name. Let's call it \"plt\"\n",
    "# - Similarly, let's call \"pandas\" as \"pd\"\n",
    "# - Try adding your own nickname!\n",
    "# - To avoid errors, be consistent with your nicknames\n",
    "\n",
    "import statistics as stats\n",
    "import matplotlib.pyplot as plt\n",
    "import pandas as pd\n",
    "\n",
    "\n",
    "print(stats.mean([1, 7, 3, 5, 9, 1, 12]))\n",
    "print(plt.plot([1,4,6,5,5,4,2,1, 2, 3,4, 5, 6,9]))"
   ]
  },
  {
   "attachments": {},
   "cell_type": "markdown",
   "metadata": {},
   "source": [
    "<font size=\"5\"> \n",
    "\n",
    "(e) Open datasets\n",
    "\n",
    "Run the command \"read_csv\" from the library <br>\n",
    "\"pandas\" (nicknamed \"pd\"). \n"
   ]
  },
  {
   "cell_type": "code",
   "execution_count": 2,
   "metadata": {},
   "outputs": [
    {
     "name": "stdout",
     "output_type": "stream",
     "text": [
      "[<matplotlib.lines.Line2D object at 0x000001685F81EAD0>]\n"
     ]
    },
    {
     "data": {
      "image/png": "[encoded data removed]",
      "text/plain": [
       "<Figure size 640x480 with 1 Axes>"
      ]
     },
     "metadata": {},
     "output_type": "display_data"
    }
   ],
   "source": [
    "\n",
    "# The subcommand \"read_csv()\" opens the file in parenthesis.\n",
    "# We use the \"=\" symbol to store the dataset in the working environment under the name \"carfeatures\"\n",
    "\n",
    "carfeatures = pd.read_csv('data/features.csv')\n",
    "print(plt.plot(carfeatures['weight'], carfeatures['acceleration'], '+')) "
   ]
  },
  {
   "attachments": {},
   "cell_type": "markdown",
   "metadata": {},
   "source": [
    "<font size=\"5\"> \n",
    "\n",
    "You can open the datasets in the current environment\n",
    "- Click on the \"Jupyter Variables\" button in the top bar to open a panel\n",
    "\n",
    "<img src=\"figures/topbar.png\" alt=\"drawing\" width=\"650\"/>\n",
    "\n",
    "- Click on the icon to the left of \"carfeatures\" in the \"Jupyter: Variables\" tab\n",
    "\n",
    "<img src=\"figures/jupyter_var.png\" alt=\"drawing\" width=\"700\"/>\n",
    "\n",
    "DataWrangler will open a window showing the data\n",
    "- Each row is an observation (a car)\n",
    "- Each column is the value of a variable (a feature of that car)"
   ]
  },
  {
   "attachments": {},
   "cell_type": "markdown",
   "metadata": {},
   "source": [
    "***"
   ]
  },
  {
   "attachments": {},
   "cell_type": "markdown",
   "metadata": {},
   "source": [
    "\n",
    "# <span style=\"color:darkblue\"> STEP 2: Run Analyses </span>\n",
    "\n",
    "<font size=\"5\"> \n",
    "\n",
    "Output data for all the columns"
   ]
  },
  {
   "cell_type": "code",
   "execution_count": null,
   "metadata": {},
   "outputs": [
    {
     "ename": "NameError",
     "evalue": "name 'Bollux' is not defined",
     "output_type": "error",
     "traceback": [
      "\u001b[1;31m---------------------------------------------------------------------------\u001b[0m",
      "\u001b[1;31mNameError\u001b[0m                                 Traceback (most recent call last)",
      "Cell \u001b[1;32mIn[5], line 4\u001b[0m\n\u001b[0;32m      1\u001b[0m \u001b[38;5;66;03m# Entering the name of a dataframe produces an output with some rows\u001b[39;00m\n\u001b[0;32m      3\u001b[0m carfeatures\n\u001b[1;32m----> 4\u001b[0m Bollux\n",
      "\u001b[1;31mNameError\u001b[0m: name 'Bollux' is not defined"
     ]
    }
   ],
   "source": [
    "# Entering the name of a dataframe produces an output with some rows\n",
    "\n",
    "carfeatures"
   ]
  },
  {
   "attachments": {},
   "cell_type": "markdown",
   "metadata": {},
   "source": [
    "<font size=\"5\"> \n",
    "\n",
    "Output data for a single column 'cylinders'"
   ]
  },
  {
   "cell_type": "code",
   "execution_count": 4,
   "metadata": {},
   "outputs": [
    {
     "data": {
      "application/vnd.microsoft.datawrangler.viewer.v0+json": {
       "columns": [
        {
         "name": "index",
         "rawType": "int64",
         "type": "integer"
        },
        {
         "name": "weight",
         "rawType": "int64",
         "type": "integer"
        }
       ],
       "ref": "fa8dc287-5ef1-4f5a-8487-af92e4000067",
       "rows": [
        [
         "0",
         "3504"
        ],
        [
         "1",
         "3693"
        ],
        [
         "2",
         "3436"
        ],
        [
         "3",
         "3433"
        ],
        [
         "4",
         "3449"
        ],
        [
         "5",
         "4341"
        ],
        [
         "6",
         "4354"
        ],
        [
         "7",
         "4312"
        ],
        [
         "8",
         "4425"
        ],
        [
         "9",
         "3850"
        ],
        [
         "10",
         "3563"
        ],
        [
         "11",
         "3609"
        ],
        [
         "12",
         "3761"
        ],
        [
         "13",
         "3086"
        ],
        [
         "14",
         "2372"
        ],
        [
         "15",
         "2833"
        ],
        [
         "16",
         "2774"
        ],
        [
         "17",
         "2587"
        ],
        [
         "18",
         "2130"
        ],
        [
         "19",
         "1835"
        ],
        [
         "20",
         "2672"
        ],
        [
         "21",
         "2430"
        ],
        [
         "22",
         "2375"
        ],
        [
         "23",
         "2234"
        ],
        [
         "24",
         "2648"
        ],
        [
         "25",
         "4615"
        ],
        [
         "26",
         "4376"
        ],
        [
         "27",
         "4382"
        ],
        [
         "28",
         "4732"
        ],
        [
         "29",
         "2130"
        ],
        [
         "30",
         "2264"
        ],
        [
         "31",
         "2228"
        ],
        [
         "32",
         "2046"
        ],
        [
         "33",
         "2634"
        ],
        [
         "34",
         "3439"
        ],
        [
         "35",
         "3329"
        ],
        [
         "36",
         "3302"
        ],
        [
         "37",
         "3288"
        ],
        [
         "38",
         "4209"
        ],
        [
         "39",
         "4464"
        ],
        [
         "40",
         "4154"
        ],
        [
         "41",
         "4096"
        ],
        [
         "42",
         "4955"
        ],
        [
         "43",
         "4746"
        ],
        [
         "44",
         "5140"
        ],
        [
         "45",
         "2962"
        ],
        [
         "46",
         "2408"
        ],
        [
         "47",
         "3282"
        ],
        [
         "48",
         "3139"
        ],
        [
         "49",
         "2220"
        ]
       ],
       "shape": {
        "columns": 1,
        "rows": 398
       }
      },
      "text/plain": [
       "0      3504\n",
       "1      3693\n",
       "2      3436\n",
       "3      3433\n",
       "4      3449\n",
       "       ... \n",
       "393    2790\n",
       "394    2130\n",
       "395    2295\n",
       "396    2625\n",
       "397    2720\n",
       "Name: weight, Length: 398, dtype: int64"
      ]
     },
     "execution_count": 4,
     "metadata": {},
     "output_type": "execute_result"
    }
   ],
   "source": [
    "# We use square brackets [...] to subset information from data \n",
    "# Text/strings have to be written in quotation marks\n",
    "# This command extracts the column 'cylinders'\n",
    "\n",
    "carfeatures[\"weight\"]\n"
   ]
  },
  {
   "attachments": {},
   "cell_type": "markdown",
   "metadata": {},
   "source": [
    "<font size=\"5\"> \n",
    "\n",
    "Example: Compute a frequency table"
   ]
  },
  {
   "cell_type": "code",
   "execution_count": 6,
   "metadata": {},
   "outputs": [
    {
     "data": {
      "application/vnd.microsoft.datawrangler.viewer.v0+json": {
       "columns": [
        {
         "name": "cylinders",
         "rawType": "int64",
         "type": "integer"
        },
        {
         "name": "count",
         "rawType": "int64",
         "type": "integer"
        }
       ],
       "ref": "96a3d17d-7116-487b-8626-6d898f48a933",
       "rows": [
        [
         "3",
         "4"
        ],
        [
         "4",
         "204"
        ],
        [
         "5",
         "3"
        ],
        [
         "6",
         "84"
        ],
        [
         "8",
         "103"
        ]
       ],
       "shape": {
        "columns": 1,
        "rows": 5
       }
      },
      "text/html": [
       "<div>\n",
       "<style scoped>\n",
       "    .dataframe tbody tr th:only-of-type {\n",
       "        vertical-align: middle;\n",
       "    }\n",
       "\n",
       "    .dataframe tbody tr th {\n",
       "        vertical-align: top;\n",
       "    }\n",
       "\n",
       "    .dataframe thead th {\n",
       "        text-align: right;\n",
       "    }\n",
       "</style>\n",
       "<table border=\"1\" class=\"dataframe\">\n",
       "  <thead>\n",
       "    <tr style=\"text-align: right;\">\n",
       "      <th>col_0</th>\n",
       "      <th>count</th>\n",
       "    </tr>\n",
       "    <tr>\n",
       "      <th>cylinders</th>\n",
       "      <th></th>\n",
       "    </tr>\n",
       "  </thead>\n",
       "  <tbody>\n",
       "    <tr>\n",
       "      <th>3</th>\n",
       "      <td>4</td>\n",
       "    </tr>\n",
       "    <tr>\n",
       "      <th>4</th>\n",
       "      <td>204</td>\n",
       "    </tr>\n",
       "    <tr>\n",
       "      <th>5</th>\n",
       "      <td>3</td>\n",
       "    </tr>\n",
       "    <tr>\n",
       "      <th>6</th>\n",
       "      <td>84</td>\n",
       "    </tr>\n",
       "    <tr>\n",
       "      <th>8</th>\n",
       "      <td>103</td>\n",
       "    </tr>\n",
       "  </tbody>\n",
       "</table>\n",
       "</div>"
      ],
      "text/plain": [
       "col_0      count\n",
       "cylinders       \n",
       "3              4\n",
       "4            204\n",
       "5              3\n",
       "6             84\n",
       "8            103"
      ]
     },
     "execution_count": 6,
     "metadata": {},
     "output_type": "execute_result"
    }
   ],
   "source": [
    "# crosstab counts how many rows fall into categories\n",
    "# \"index\" is the category\n",
    "# \"columns\" is a custom title\n",
    "\n",
    "table = pd.crosstab(index = carfeatures['cylinders'],columns = \"count\")\n",
    "table\n"
   ]
  },
  {
   "cell_type": "markdown",
   "metadata": {},
   "source": [
    "### The \"help\" keyword can be used to learn more about a command"
   ]
  },
  {
   "cell_type": "code",
   "execution_count": null,
   "metadata": {},
   "outputs": [],
   "source": [
    "help (pd.crosstab)"
   ]
  },
  {
   "cell_type": "code",
   "execution_count": 9,
   "metadata": {},
   "outputs": [
    {
     "data": {
      "application/vnd.microsoft.datawrangler.viewer.v0+json": {
       "columns": [
        {
         "name": "cylinders",
         "rawType": "int64",
         "type": "integer"
        },
        {
         "name": "count",
         "rawType": "int64",
         "type": "integer"
        }
       ],
       "ref": "e80bf0bb-c85a-4908-bc4f-b3ca0020725c",
       "rows": [
        [
         "3",
         "4"
        ],
        [
         "4",
         "204"
        ],
        [
         "5",
         "3"
        ],
        [
         "6",
         "84"
        ],
        [
         "8",
         "103"
        ]
       ],
       "shape": {
        "columns": 1,
        "rows": 5
       }
      },
      "text/html": [
       "<div>\n",
       "<style scoped>\n",
       "    .dataframe tbody tr th:only-of-type {\n",
       "        vertical-align: middle;\n",
       "    }\n",
       "\n",
       "    .dataframe tbody tr th {\n",
       "        vertical-align: top;\n",
       "    }\n",
       "\n",
       "    .dataframe thead th {\n",
       "        text-align: right;\n",
       "    }\n",
       "</style>\n",
       "<table border=\"1\" class=\"dataframe\">\n",
       "  <thead>\n",
       "    <tr style=\"text-align: right;\">\n",
       "      <th>col_0</th>\n",
       "      <th>count</th>\n",
       "    </tr>\n",
       "    <tr>\n",
       "      <th>cylinders</th>\n",
       "      <th></th>\n",
       "    </tr>\n",
       "  </thead>\n",
       "  <tbody>\n",
       "    <tr>\n",
       "      <th>3</th>\n",
       "      <td>4</td>\n",
       "    </tr>\n",
       "    <tr>\n",
       "      <th>4</th>\n",
       "      <td>204</td>\n",
       "    </tr>\n",
       "    <tr>\n",
       "      <th>5</th>\n",
       "      <td>3</td>\n",
       "    </tr>\n",
       "    <tr>\n",
       "      <th>6</th>\n",
       "      <td>84</td>\n",
       "    </tr>\n",
       "    <tr>\n",
       "      <th>8</th>\n",
       "      <td>103</td>\n",
       "    </tr>\n",
       "  </tbody>\n",
       "</table>\n",
       "</div>"
      ],
      "text/plain": [
       "col_0      count\n",
       "cylinders       \n",
       "3              4\n",
       "4            204\n",
       "5              3\n",
       "6             84\n",
       "8            103"
      ]
     },
     "execution_count": 9,
     "metadata": {},
     "output_type": "execute_result"
    }
   ],
   "source": [
    "# It looks like the first two arguments are \"index\" and \"columns\", which are required. The rest are optional.\n",
    "# So we can also write the command like this:\n",
    "\n",
    "table = pd.crosstab(carfeatures['cylinders'], \"count\")\n",
    "table\n",
    "\n"
   ]
  },
  {
   "cell_type": "markdown",
   "metadata": {},
   "source": [
    "### We can also cross-tabulate between two columns of carfeatures:"
   ]
  },
  {
   "cell_type": "code",
   "execution_count": 15,
   "metadata": {},
   "outputs": [
    {
     "data": {
      "application/vnd.microsoft.datawrangler.viewer.v0+json": {
       "columns": [
        {
         "name": "cylinders",
         "rawType": "int64",
         "type": "integer"
        },
        {
         "name": "9.0",
         "rawType": "int64",
         "type": "integer"
        },
        {
         "name": "10.0",
         "rawType": "int64",
         "type": "integer"
        },
        {
         "name": "11.0",
         "rawType": "int64",
         "type": "integer"
        },
        {
         "name": "12.0",
         "rawType": "int64",
         "type": "integer"
        },
        {
         "name": "13.0",
         "rawType": "int64",
         "type": "integer"
        },
        {
         "name": "14.0",
         "rawType": "int64",
         "type": "integer"
        },
        {
         "name": "14.5",
         "rawType": "int64",
         "type": "integer"
        },
        {
         "name": "15.0",
         "rawType": "int64",
         "type": "integer"
        },
        {
         "name": "15.5",
         "rawType": "int64",
         "type": "integer"
        },
        {
         "name": "16.0",
         "rawType": "int64",
         "type": "integer"
        },
        {
         "name": "16.2",
         "rawType": "int64",
         "type": "integer"
        },
        {
         "name": "16.5",
         "rawType": "int64",
         "type": "integer"
        },
        {
         "name": "16.9",
         "rawType": "int64",
         "type": "integer"
        },
        {
         "name": "17.0",
         "rawType": "int64",
         "type": "integer"
        },
        {
         "name": "17.5",
         "rawType": "int64",
         "type": "integer"
        },
        {
         "name": "17.6",
         "rawType": "int64",
         "type": "integer"
        },
        {
         "name": "17.7",
         "rawType": "int64",
         "type": "integer"
        },
        {
         "name": "18.0",
         "rawType": "int64",
         "type": "integer"
        },
        {
         "name": "18.1",
         "rawType": "int64",
         "type": "integer"
        },
        {
         "name": "18.2",
         "rawType": "int64",
         "type": "integer"
        },
        {
         "name": "18.5",
         "rawType": "int64",
         "type": "integer"
        },
        {
         "name": "18.6",
         "rawType": "int64",
         "type": "integer"
        },
        {
         "name": "19.0",
         "rawType": "int64",
         "type": "integer"
        },
        {
         "name": "19.1",
         "rawType": "int64",
         "type": "integer"
        },
        {
         "name": "19.2",
         "rawType": "int64",
         "type": "integer"
        },
        {
         "name": "19.4",
         "rawType": "int64",
         "type": "integer"
        },
        {
         "name": "19.8",
         "rawType": "int64",
         "type": "integer"
        },
        {
         "name": "19.9",
         "rawType": "int64",
         "type": "integer"
        },
        {
         "name": "20.0",
         "rawType": "int64",
         "type": "integer"
        },
        {
         "name": "20.2",
         "rawType": "int64",
         "type": "integer"
        },
        {
         "name": "20.3",
         "rawType": "int64",
         "type": "integer"
        },
        {
         "name": "20.5",
         "rawType": "int64",
         "type": "integer"
        },
        {
         "name": "20.6",
         "rawType": "int64",
         "type": "integer"
        },
        {
         "name": "20.8",
         "rawType": "int64",
         "type": "integer"
        },
        {
         "name": "21.0",
         "rawType": "int64",
         "type": "integer"
        },
        {
         "name": "21.1",
         "rawType": "int64",
         "type": "integer"
        },
        {
         "name": "21.5",
         "rawType": "int64",
         "type": "integer"
        },
        {
         "name": "21.6",
         "rawType": "int64",
         "type": "integer"
        },
        {
         "name": "22.0",
         "rawType": "int64",
         "type": "integer"
        },
        {
         "name": "22.3",
         "rawType": "int64",
         "type": "integer"
        },
        {
         "name": "22.4",
         "rawType": "int64",
         "type": "integer"
        },
        {
         "name": "22.5",
         "rawType": "int64",
         "type": "integer"
        },
        {
         "name": "23.0",
         "rawType": "int64",
         "type": "integer"
        },
        {
         "name": "23.2",
         "rawType": "int64",
         "type": "integer"
        },
        {
         "name": "23.5",
         "rawType": "int64",
         "type": "integer"
        },
        {
         "name": "23.6",
         "rawType": "int64",
         "type": "integer"
        },
        {
         "name": "23.7",
         "rawType": "int64",
         "type": "integer"
        },
        {
         "name": "23.8",
         "rawType": "int64",
         "type": "integer"
        },
        {
         "name": "23.9",
         "rawType": "int64",
         "type": "integer"
        },
        {
         "name": "24.0",
         "rawType": "int64",
         "type": "integer"
        },
        {
         "name": "24.2",
         "rawType": "int64",
         "type": "integer"
        },
        {
         "name": "24.3",
         "rawType": "int64",
         "type": "integer"
        },
        {
         "name": "24.5",
         "rawType": "int64",
         "type": "integer"
        },
        {
         "name": "25.0",
         "rawType": "int64",
         "type": "integer"
        },
        {
         "name": "25.1",
         "rawType": "int64",
         "type": "integer"
        },
        {
         "name": "25.4",
         "rawType": "int64",
         "type": "integer"
        },
        {
         "name": "25.5",
         "rawType": "int64",
         "type": "integer"
        },
        {
         "name": "25.8",
         "rawType": "int64",
         "type": "integer"
        },
        {
         "name": "26.0",
         "rawType": "int64",
         "type": "integer"
        },
        {
         "name": "26.4",
         "rawType": "int64",
         "type": "integer"
        },
        {
         "name": "26.5",
         "rawType": "int64",
         "type": "integer"
        },
        {
         "name": "26.6",
         "rawType": "int64",
         "type": "integer"
        },
        {
         "name": "26.8",
         "rawType": "int64",
         "type": "integer"
        },
        {
         "name": "27.0",
         "rawType": "int64",
         "type": "integer"
        },
        {
         "name": "27.2",
         "rawType": "int64",
         "type": "integer"
        },
        {
         "name": "27.4",
         "rawType": "int64",
         "type": "integer"
        },
        {
         "name": "27.5",
         "rawType": "int64",
         "type": "integer"
        },
        {
         "name": "27.9",
         "rawType": "int64",
         "type": "integer"
        },
        {
         "name": "28.0",
         "rawType": "int64",
         "type": "integer"
        },
        {
         "name": "28.1",
         "rawType": "int64",
         "type": "integer"
        },
        {
         "name": "28.4",
         "rawType": "int64",
         "type": "integer"
        },
        {
         "name": "28.8",
         "rawType": "int64",
         "type": "integer"
        },
        {
         "name": "29.0",
         "rawType": "int64",
         "type": "integer"
        },
        {
         "name": "29.5",
         "rawType": "int64",
         "type": "integer"
        },
        {
         "name": "29.8",
         "rawType": "int64",
         "type": "integer"
        },
        {
         "name": "29.9",
         "rawType": "int64",
         "type": "integer"
        },
        {
         "name": "30.0",
         "rawType": "int64",
         "type": "integer"
        },
        {
         "name": "30.5",
         "rawType": "int64",
         "type": "integer"
        },
        {
         "name": "30.7",
         "rawType": "int64",
         "type": "integer"
        },
        {
         "name": "30.9",
         "rawType": "int64",
         "type": "integer"
        },
        {
         "name": "31.0",
         "rawType": "int64",
         "type": "integer"
        },
        {
         "name": "31.3",
         "rawType": "int64",
         "type": "integer"
        },
        {
         "name": "31.5",
         "rawType": "int64",
         "type": "integer"
        },
        {
         "name": "31.6",
         "rawType": "int64",
         "type": "integer"
        },
        {
         "name": "31.8",
         "rawType": "int64",
         "type": "integer"
        },
        {
         "name": "31.9",
         "rawType": "int64",
         "type": "integer"
        },
        {
         "name": "32.0",
         "rawType": "int64",
         "type": "integer"
        },
        {
         "name": "32.1",
         "rawType": "int64",
         "type": "integer"
        },
        {
         "name": "32.2",
         "rawType": "int64",
         "type": "integer"
        },
        {
         "name": "32.3",
         "rawType": "int64",
         "type": "integer"
        },
        {
         "name": "32.4",
         "rawType": "int64",
         "type": "integer"
        },
        {
         "name": "32.7",
         "rawType": "int64",
         "type": "integer"
        },
        {
         "name": "32.8",
         "rawType": "int64",
         "type": "integer"
        },
        {
         "name": "32.9",
         "rawType": "int64",
         "type": "integer"
        },
        {
         "name": "33.0",
         "rawType": "int64",
         "type": "integer"
        },
        {
         "name": "33.5",
         "rawType": "int64",
         "type": "integer"
        },
        {
         "name": "33.7",
         "rawType": "int64",
         "type": "integer"
        },
        {
         "name": "33.8",
         "rawType": "int64",
         "type": "integer"
        },
        {
         "name": "34.0",
         "rawType": "int64",
         "type": "integer"
        },
        {
         "name": "34.1",
         "rawType": "int64",
         "type": "integer"
        },
        {
         "name": "34.2",
         "rawType": "int64",
         "type": "integer"
        },
        {
         "name": "34.3",
         "rawType": "int64",
         "type": "integer"
        },
        {
         "name": "34.4",
         "rawType": "int64",
         "type": "integer"
        },
        {
         "name": "34.5",
         "rawType": "int64",
         "type": "integer"
        },
        {
         "name": "34.7",
         "rawType": "int64",
         "type": "integer"
        },
        {
         "name": "35.0",
         "rawType": "int64",
         "type": "integer"
        },
        {
         "name": "35.1",
         "rawType": "int64",
         "type": "integer"
        },
        {
         "name": "35.7",
         "rawType": "int64",
         "type": "integer"
        },
        {
         "name": "36.0",
         "rawType": "int64",
         "type": "integer"
        },
        {
         "name": "36.1",
         "rawType": "int64",
         "type": "integer"
        },
        {
         "name": "36.4",
         "rawType": "int64",
         "type": "integer"
        },
        {
         "name": "37.0",
         "rawType": "int64",
         "type": "integer"
        },
        {
         "name": "37.2",
         "rawType": "int64",
         "type": "integer"
        },
        {
         "name": "37.3",
         "rawType": "int64",
         "type": "integer"
        },
        {
         "name": "37.7",
         "rawType": "int64",
         "type": "integer"
        },
        {
         "name": "38.0",
         "rawType": "int64",
         "type": "integer"
        },
        {
         "name": "38.1",
         "rawType": "int64",
         "type": "integer"
        },
        {
         "name": "39.0",
         "rawType": "int64",
         "type": "integer"
        },
        {
         "name": "39.1",
         "rawType": "int64",
         "type": "integer"
        },
        {
         "name": "39.4",
         "rawType": "int64",
         "type": "integer"
        },
        {
         "name": "40.8",
         "rawType": "int64",
         "type": "integer"
        },
        {
         "name": "40.9",
         "rawType": "int64",
         "type": "integer"
        },
        {
         "name": "41.5",
         "rawType": "int64",
         "type": "integer"
        },
        {
         "name": "43.1",
         "rawType": "int64",
         "type": "integer"
        },
        {
         "name": "43.4",
         "rawType": "int64",
         "type": "integer"
        },
        {
         "name": "44.0",
         "rawType": "int64",
         "type": "integer"
        },
        {
         "name": "44.3",
         "rawType": "int64",
         "type": "integer"
        },
        {
         "name": "44.6",
         "rawType": "int64",
         "type": "integer"
        },
        {
         "name": "46.6",
         "rawType": "int64",
         "type": "integer"
        }
       ],
       "ref": "730c19e8-fd0e-4b3e-ae17-3ba699ebdb44",
       "rows": [
        [
         "3",
         "0",
         "0",
         "0",
         "0",
         "0",
         "0",
         "0",
         "0",
         "0",
         "0",
         "0",
         "0",
         "0",
         "0",
         "0",
         "0",
         "0",
         "1",
         "0",
         "0",
         "0",
         "0",
         "1",
         "0",
         "0",
         "0",
         "0",
         "0",
         "0",
         "0",
         "0",
         "0",
         "0",
         "0",
         "0",
         "0",
         "1",
         "0",
         "0",
         "0",
         "0",
         "0",
         "0",
         "0",
         "0",
         "0",
         "1",
         "0",
         "0",
         "0",
         "0",
         "0",
         "0",
         "0",
         "0",
         "0",
         "0",
         "0",
         "0",
         "0",
         "0",
         "0",
         "0",
         "0",
         "0",
         "0",
         "0",
         "0",
         "0",
         "0",
         "0",
         "0",
         "0",
         "0",
         "0",
         "0",
         "0",
         "0",
         "0",
         "0",
         "0",
         "0",
         "0",
         "0",
         "0",
         "0",
         "0",
         "0",
         "0",
         "0",
         "0",
         "0",
         "0",
         "0",
         "0",
         "0",
         "0",
         "0",
         "0",
         "0",
         "0",
         "0",
         "0",
         "0",
         "0",
         "0",
         "0",
         "0",
         "0",
         "0",
         "0",
         "0",
         "0",
         "0",
         "0",
         "0",
         "0",
         "0",
         "0",
         "0",
         "0",
         "0",
         "0",
         "0",
         "0",
         "0",
         "0",
         "0",
         "0"
        ],
        [
         "4",
         "0",
         "0",
         "0",
         "0",
         "0",
         "0",
         "0",
         "0",
         "0",
         "0",
         "0",
         "0",
         "0",
         "0",
         "0",
         "0",
         "0",
         "1",
         "0",
         "0",
         "0",
         "0",
         "3",
         "0",
         "0",
         "0",
         "0",
         "0",
         "4",
         "0",
         "0",
         "0",
         "0",
         "0",
         "3",
         "1",
         "1",
         "1",
         "5",
         "1",
         "0",
         "0",
         "8",
         "1",
         "0",
         "1",
         "0",
         "1",
         "1",
         "10",
         "0",
         "1",
         "2",
         "10",
         "1",
         "0",
         "2",
         "1",
         "14",
         "1",
         "1",
         "1",
         "0",
         "9",
         "3",
         "1",
         "1",
         "1",
         "10",
         "1",
         "1",
         "0",
         "8",
         "2",
         "2",
         "1",
         "7",
         "2",
         "0",
         "1",
         "7",
         "1",
         "2",
         "1",
         "1",
         "1",
         "6",
         "1",
         "1",
         "1",
         "2",
         "0",
         "1",
         "1",
         "3",
         "3",
         "1",
         "1",
         "2",
         "2",
         "1",
         "1",
         "1",
         "2",
         "1",
         "2",
         "1",
         "1",
         "6",
         "2",
         "0",
         "3",
         "1",
         "1",
         "1",
         "3",
         "1",
         "1",
         "1",
         "1",
         "1",
         "1",
         "1",
         "1",
         "1",
         "1",
         "1",
         "1",
         "1"
        ],
        [
         "5",
         "0",
         "0",
         "0",
         "0",
         "0",
         "0",
         "0",
         "0",
         "0",
         "0",
         "0",
         "0",
         "0",
         "0",
         "0",
         "0",
         "0",
         "0",
         "0",
         "0",
         "0",
         "0",
         "0",
         "0",
         "0",
         "0",
         "0",
         "0",
         "0",
         "0",
         "1",
         "0",
         "0",
         "0",
         "0",
         "0",
         "0",
         "0",
         "0",
         "0",
         "0",
         "0",
         "0",
         "0",
         "0",
         "0",
         "0",
         "0",
         "0",
         "0",
         "0",
         "0",
         "0",
         "0",
         "0",
         "1",
         "0",
         "0",
         "0",
         "0",
         "0",
         "0",
         "0",
         "0",
         "0",
         "0",
         "0",
         "0",
         "0",
         "0",
         "0",
         "0",
         "0",
         "0",
         "0",
         "0",
         "0",
         "0",
         "0",
         "0",
         "0",
         "0",
         "0",
         "0",
         "0",
         "0",
         "0",
         "0",
         "0",
         "0",
         "0",
         "0",
         "0",
         "0",
         "0",
         "0",
         "0",
         "0",
         "0",
         "0",
         "0",
         "0",
         "0",
         "0",
         "0",
         "0",
         "0",
         "0",
         "0",
         "0",
         "1",
         "0",
         "0",
         "0",
         "0",
         "0",
         "0",
         "0",
         "0",
         "0",
         "0",
         "0",
         "0",
         "0",
         "0",
         "0",
         "0",
         "0",
         "0"
        ],
        [
         "6",
         "0",
         "0",
         "0",
         "0",
         "0",
         "0",
         "0",
         "4",
         "0",
         "5",
         "1",
         "1",
         "0",
         "3",
         "2",
         "1",
         "1",
         "13",
         "1",
         "0",
         "2",
         "1",
         "8",
         "1",
         "1",
         "1",
         "1",
         "0",
         "4",
         "3",
         "0",
         "3",
         "2",
         "1",
         "5",
         "0",
         "1",
         "0",
         "5",
         "0",
         "1",
         "1",
         "1",
         "0",
         "1",
         "0",
         "0",
         "0",
         "0",
         "1",
         "1",
         "0",
         "0",
         "1",
         "0",
         "1",
         "0",
         "0",
         "0",
         "0",
         "0",
         "0",
         "1",
         "0",
         "0",
         "0",
         "0",
         "0",
         "0",
         "0",
         "0",
         "1",
         "0",
         "0",
         "0",
         "0",
         "0",
         "0",
         "1",
         "0",
         "0",
         "0",
         "0",
         "0",
         "0",
         "0",
         "0",
         "0",
         "0",
         "0",
         "0",
         "1",
         "0",
         "0",
         "0",
         "0",
         "0",
         "0",
         "0",
         "0",
         "0",
         "0",
         "0",
         "0",
         "0",
         "0",
         "0",
         "0",
         "0",
         "0",
         "0",
         "0",
         "0",
         "0",
         "0",
         "1",
         "0",
         "0",
         "0",
         "0",
         "0",
         "0",
         "0",
         "0",
         "0",
         "0",
         "0",
         "0",
         "0"
        ],
        [
         "8",
         "1",
         "2",
         "4",
         "6",
         "20",
         "19",
         "1",
         "12",
         "5",
         "8",
         "0",
         "2",
         "1",
         "4",
         "3",
         "1",
         "0",
         "2",
         "1",
         "1",
         "1",
         "0",
         "0",
         "0",
         "2",
         "1",
         "0",
         "1",
         "1",
         "1",
         "0",
         "0",
         "0",
         "0",
         "0",
         "0",
         "0",
         "0",
         "0",
         "0",
         "0",
         "0",
         "1",
         "0",
         "0",
         "0",
         "0",
         "0",
         "1",
         "0",
         "0",
         "0",
         "0",
         "0",
         "0",
         "0",
         "0",
         "0",
         "0",
         "0",
         "0",
         "1",
         "0",
         "0",
         "0",
         "0",
         "0",
         "0",
         "0",
         "0",
         "0",
         "0",
         "0",
         "0",
         "0",
         "0",
         "0",
         "0",
         "0",
         "0",
         "0",
         "0",
         "0",
         "0",
         "0",
         "0",
         "0",
         "0",
         "0",
         "0",
         "0",
         "0",
         "0",
         "0",
         "0",
         "0",
         "0",
         "0",
         "0",
         "0",
         "0",
         "0",
         "0",
         "0",
         "0",
         "0",
         "0",
         "0",
         "0",
         "0",
         "0",
         "0",
         "0",
         "0",
         "0",
         "0",
         "0",
         "0",
         "0",
         "0",
         "0",
         "0",
         "0",
         "0",
         "0",
         "0",
         "0",
         "0",
         "0"
        ]
       ],
       "shape": {
        "columns": 129,
        "rows": 5
       }
      },
      "text/html": [
       "<div>\n",
       "<style scoped>\n",
       "    .dataframe tbody tr th:only-of-type {\n",
       "        vertical-align: middle;\n",
       "    }\n",
       "\n",
       "    .dataframe tbody tr th {\n",
       "        vertical-align: top;\n",
       "    }\n",
       "\n",
       "    .dataframe thead th {\n",
       "        text-align: right;\n",
       "    }\n",
       "</style>\n",
       "<table border=\"1\" class=\"dataframe\">\n",
       "  <thead>\n",
       "    <tr style=\"text-align: right;\">\n",
       "      <th>mpg</th>\n",
       "      <th>9.0</th>\n",
       "      <th>10.0</th>\n",
       "      <th>11.0</th>\n",
       "      <th>12.0</th>\n",
       "      <th>13.0</th>\n",
       "      <th>14.0</th>\n",
       "      <th>14.5</th>\n",
       "      <th>15.0</th>\n",
       "      <th>15.5</th>\n",
       "      <th>16.0</th>\n",
       "      <th>...</th>\n",
       "      <th>39.4</th>\n",
       "      <th>40.8</th>\n",
       "      <th>40.9</th>\n",
       "      <th>41.5</th>\n",
       "      <th>43.1</th>\n",
       "      <th>43.4</th>\n",
       "      <th>44.0</th>\n",
       "      <th>44.3</th>\n",
       "      <th>44.6</th>\n",
       "      <th>46.6</th>\n",
       "    </tr>\n",
       "    <tr>\n",
       "      <th>cylinders</th>\n",
       "      <th></th>\n",
       "      <th></th>\n",
       "      <th></th>\n",
       "      <th></th>\n",
       "      <th></th>\n",
       "      <th></th>\n",
       "      <th></th>\n",
       "      <th></th>\n",
       "      <th></th>\n",
       "      <th></th>\n",
       "      <th></th>\n",
       "      <th></th>\n",
       "      <th></th>\n",
       "      <th></th>\n",
       "      <th></th>\n",
       "      <th></th>\n",
       "      <th></th>\n",
       "      <th></th>\n",
       "      <th></th>\n",
       "      <th></th>\n",
       "      <th></th>\n",
       "    </tr>\n",
       "  </thead>\n",
       "  <tbody>\n",
       "    <tr>\n",
       "      <th>3</th>\n",
       "      <td>0</td>\n",
       "      <td>0</td>\n",
       "      <td>0</td>\n",
       "      <td>0</td>\n",
       "      <td>0</td>\n",
       "      <td>0</td>\n",
       "      <td>0</td>\n",
       "      <td>0</td>\n",
       "      <td>0</td>\n",
       "      <td>0</td>\n",
       "      <td>...</td>\n",
       "      <td>0</td>\n",
       "      <td>0</td>\n",
       "      <td>0</td>\n",
       "      <td>0</td>\n",
       "      <td>0</td>\n",
       "      <td>0</td>\n",
       "      <td>0</td>\n",
       "      <td>0</td>\n",
       "      <td>0</td>\n",
       "      <td>0</td>\n",
       "    </tr>\n",
       "    <tr>\n",
       "      <th>4</th>\n",
       "      <td>0</td>\n",
       "      <td>0</td>\n",
       "      <td>0</td>\n",
       "      <td>0</td>\n",
       "      <td>0</td>\n",
       "      <td>0</td>\n",
       "      <td>0</td>\n",
       "      <td>0</td>\n",
       "      <td>0</td>\n",
       "      <td>0</td>\n",
       "      <td>...</td>\n",
       "      <td>1</td>\n",
       "      <td>1</td>\n",
       "      <td>1</td>\n",
       "      <td>1</td>\n",
       "      <td>1</td>\n",
       "      <td>1</td>\n",
       "      <td>1</td>\n",
       "      <td>1</td>\n",
       "      <td>1</td>\n",
       "      <td>1</td>\n",
       "    </tr>\n",
       "    <tr>\n",
       "      <th>5</th>\n",
       "      <td>0</td>\n",
       "      <td>0</td>\n",
       "      <td>0</td>\n",
       "      <td>0</td>\n",
       "      <td>0</td>\n",
       "      <td>0</td>\n",
       "      <td>0</td>\n",
       "      <td>0</td>\n",
       "      <td>0</td>\n",
       "      <td>0</td>\n",
       "      <td>...</td>\n",
       "      <td>0</td>\n",
       "      <td>0</td>\n",
       "      <td>0</td>\n",
       "      <td>0</td>\n",
       "      <td>0</td>\n",
       "      <td>0</td>\n",
       "      <td>0</td>\n",
       "      <td>0</td>\n",
       "      <td>0</td>\n",
       "      <td>0</td>\n",
       "    </tr>\n",
       "    <tr>\n",
       "      <th>6</th>\n",
       "      <td>0</td>\n",
       "      <td>0</td>\n",
       "      <td>0</td>\n",
       "      <td>0</td>\n",
       "      <td>0</td>\n",
       "      <td>0</td>\n",
       "      <td>0</td>\n",
       "      <td>4</td>\n",
       "      <td>0</td>\n",
       "      <td>5</td>\n",
       "      <td>...</td>\n",
       "      <td>0</td>\n",
       "      <td>0</td>\n",
       "      <td>0</td>\n",
       "      <td>0</td>\n",
       "      <td>0</td>\n",
       "      <td>0</td>\n",
       "      <td>0</td>\n",
       "      <td>0</td>\n",
       "      <td>0</td>\n",
       "      <td>0</td>\n",
       "    </tr>\n",
       "    <tr>\n",
       "      <th>8</th>\n",
       "      <td>1</td>\n",
       "      <td>2</td>\n",
       "      <td>4</td>\n",
       "      <td>6</td>\n",
       "      <td>20</td>\n",
       "      <td>19</td>\n",
       "      <td>1</td>\n",
       "      <td>12</td>\n",
       "      <td>5</td>\n",
       "      <td>8</td>\n",
       "      <td>...</td>\n",
       "      <td>0</td>\n",
       "      <td>0</td>\n",
       "      <td>0</td>\n",
       "      <td>0</td>\n",
       "      <td>0</td>\n",
       "      <td>0</td>\n",
       "      <td>0</td>\n",
       "      <td>0</td>\n",
       "      <td>0</td>\n",
       "      <td>0</td>\n",
       "    </tr>\n",
       "  </tbody>\n",
       "</table>\n",
       "<p>5 rows × 129 columns</p>\n",
       "</div>"
      ],
      "text/plain": [
       "mpg        9.0   10.0  11.0  12.0  13.0  14.0  14.5  15.0  15.5  16.0  ...  \\\n",
       "cylinders                                                              ...   \n",
       "3             0     0     0     0     0     0     0     0     0     0  ...   \n",
       "4             0     0     0     0     0     0     0     0     0     0  ...   \n",
       "5             0     0     0     0     0     0     0     0     0     0  ...   \n",
       "6             0     0     0     0     0     0     0     4     0     5  ...   \n",
       "8             1     2     4     6    20    19     1    12     5     8  ...   \n",
       "\n",
       "mpg        39.4  40.8  40.9  41.5  43.1  43.4  44.0  44.3  44.6  46.6  \n",
       "cylinders                                                              \n",
       "3             0     0     0     0     0     0     0     0     0     0  \n",
       "4             1     1     1     1     1     1     1     1     1     1  \n",
       "5             0     0     0     0     0     0     0     0     0     0  \n",
       "6             0     0     0     0     0     0     0     0     0     0  \n",
       "8             0     0     0     0     0     0     0     0     0     0  \n",
       "\n",
       "[5 rows x 129 columns]"
      ]
     },
     "execution_count": 15,
     "metadata": {},
     "output_type": "execute_result"
    }
   ],
   "source": [
    "table_2 = pd.crosstab(index = carfeatures['cylinders'],columns = carfeatures['mpg'])\n",
    "table_2\n"
   ]
  },
  {
   "attachments": {},
   "cell_type": "markdown",
   "metadata": {},
   "source": [
    "<font size=\"5\"> \n",
    "\n",
    "Example: Compute basic summary statistics for all variables"
   ]
  },
  {
   "cell_type": "code",
   "execution_count": 19,
   "metadata": {},
   "outputs": [
    {
     "ename": "TypeError",
     "evalue": "'<=' not supported between instances of 'int' and 'numpy.str_'",
     "output_type": "error",
     "traceback": [
      "\u001b[1;31m---------------------------------------------------------------------------\u001b[0m",
      "\u001b[1;31mTypeError\u001b[0m                                 Traceback (most recent call last)",
      "Cell \u001b[1;32mIn[19], line 5\u001b[0m\n\u001b[0;32m      1\u001b[0m \u001b[38;5;66;03m# \"describe\" computes the count, mean, std, min, 25% quantile, 50%, 75%, max\u001b[39;00m\n\u001b[0;32m      2\u001b[0m \u001b[38;5;66;03m# automatically excludes variables with text values\u001b[39;00m\n\u001b[0;32m      3\u001b[0m \u001b[38;5;66;03m# otherwise includes all numeric variables\u001b[39;00m\n\u001b[1;32m----> 5\u001b[0m carfeatures\u001b[38;5;241m.\u001b[39mdescribe(\u001b[38;5;124m'\u001b[39m\u001b[38;5;124mmpg\u001b[39m\u001b[38;5;124m'\u001b[39m)\n",
      "File \u001b[1;32mc:\\Users\\henry\\anaconda3\\Lib\\site-packages\\pandas\\core\\generic.py:11976\u001b[0m, in \u001b[0;36mNDFrame.describe\u001b[1;34m(self, percentiles, include, exclude)\u001b[0m\n\u001b[0;32m  11734\u001b[0m \u001b[38;5;129m@final\u001b[39m\n\u001b[0;32m  11735\u001b[0m \u001b[38;5;28;01mdef\u001b[39;00m\u001b[38;5;250m \u001b[39m\u001b[38;5;21mdescribe\u001b[39m(\n\u001b[0;32m  11736\u001b[0m     \u001b[38;5;28mself\u001b[39m,\n\u001b[1;32m   (...)\u001b[0m\n\u001b[0;32m  11739\u001b[0m     exclude\u001b[38;5;241m=\u001b[39m\u001b[38;5;28;01mNone\u001b[39;00m,\n\u001b[0;32m  11740\u001b[0m ) \u001b[38;5;241m-\u001b[39m\u001b[38;5;241m>\u001b[39m Self:\n\u001b[0;32m  11741\u001b[0m \u001b[38;5;250m    \u001b[39m\u001b[38;5;124;03m\"\"\"\u001b[39;00m\n\u001b[0;32m  11742\u001b[0m \u001b[38;5;124;03m    Generate descriptive statistics.\u001b[39;00m\n\u001b[0;32m  11743\u001b[0m \n\u001b[1;32m   (...)\u001b[0m\n\u001b[0;32m  11974\u001b[0m \u001b[38;5;124;03m    max            NaN      3.0\u001b[39;00m\n\u001b[0;32m  11975\u001b[0m \u001b[38;5;124;03m    \"\"\"\u001b[39;00m\n\u001b[1;32m> 11976\u001b[0m     \u001b[38;5;28;01mreturn\u001b[39;00m describe_ndframe(\n\u001b[0;32m  11977\u001b[0m         obj\u001b[38;5;241m=\u001b[39m\u001b[38;5;28mself\u001b[39m,\n\u001b[0;32m  11978\u001b[0m         include\u001b[38;5;241m=\u001b[39minclude,\n\u001b[0;32m  11979\u001b[0m         exclude\u001b[38;5;241m=\u001b[39mexclude,\n\u001b[0;32m  11980\u001b[0m         percentiles\u001b[38;5;241m=\u001b[39mpercentiles,\n\u001b[0;32m  11981\u001b[0m     )\u001b[38;5;241m.\u001b[39m__finalize__(\u001b[38;5;28mself\u001b[39m, method\u001b[38;5;241m=\u001b[39m\u001b[38;5;124m\"\u001b[39m\u001b[38;5;124mdescribe\u001b[39m\u001b[38;5;124m\"\u001b[39m)\n",
      "File \u001b[1;32mc:\\Users\\henry\\anaconda3\\Lib\\site-packages\\pandas\\core\\methods\\describe.py:83\u001b[0m, in \u001b[0;36mdescribe_ndframe\u001b[1;34m(obj, include, exclude, percentiles)\u001b[0m\n\u001b[0;32m     55\u001b[0m \u001b[38;5;28;01mdef\u001b[39;00m\u001b[38;5;250m \u001b[39m\u001b[38;5;21mdescribe_ndframe\u001b[39m(\n\u001b[0;32m     56\u001b[0m     \u001b[38;5;241m*\u001b[39m,\n\u001b[0;32m     57\u001b[0m     obj: NDFrameT,\n\u001b[1;32m   (...)\u001b[0m\n\u001b[0;32m     60\u001b[0m     percentiles: Sequence[\u001b[38;5;28mfloat\u001b[39m] \u001b[38;5;241m|\u001b[39m np\u001b[38;5;241m.\u001b[39mndarray \u001b[38;5;241m|\u001b[39m \u001b[38;5;28;01mNone\u001b[39;00m,\n\u001b[0;32m     61\u001b[0m ) \u001b[38;5;241m-\u001b[39m\u001b[38;5;241m>\u001b[39m NDFrameT:\n\u001b[0;32m     62\u001b[0m \u001b[38;5;250m    \u001b[39m\u001b[38;5;124;03m\"\"\"Describe series or dataframe.\u001b[39;00m\n\u001b[0;32m     63\u001b[0m \n\u001b[0;32m     64\u001b[0m \u001b[38;5;124;03m    Called from pandas.core.generic.NDFrame.describe()\u001b[39;00m\n\u001b[1;32m   (...)\u001b[0m\n\u001b[0;32m     81\u001b[0m \u001b[38;5;124;03m    Dataframe or series description.\u001b[39;00m\n\u001b[0;32m     82\u001b[0m \u001b[38;5;124;03m    \"\"\"\u001b[39;00m\n\u001b[1;32m---> 83\u001b[0m     percentiles \u001b[38;5;241m=\u001b[39m _refine_percentiles(percentiles)\n\u001b[0;32m     85\u001b[0m     describer: NDFrameDescriberAbstract\n\u001b[0;32m     86\u001b[0m     \u001b[38;5;28;01mif\u001b[39;00m obj\u001b[38;5;241m.\u001b[39mndim \u001b[38;5;241m==\u001b[39m \u001b[38;5;241m1\u001b[39m:\n",
      "File \u001b[1;32mc:\\Users\\henry\\anaconda3\\Lib\\site-packages\\pandas\\core\\methods\\describe.py:402\u001b[0m, in \u001b[0;36m_refine_percentiles\u001b[1;34m(percentiles)\u001b[0m\n\u001b[0;32m    399\u001b[0m percentiles \u001b[38;5;241m=\u001b[39m \u001b[38;5;28mlist\u001b[39m(percentiles)\n\u001b[0;32m    401\u001b[0m \u001b[38;5;66;03m# get them all to be in [0, 1]\u001b[39;00m\n\u001b[1;32m--> 402\u001b[0m validate_percentile(percentiles)\n\u001b[0;32m    404\u001b[0m \u001b[38;5;66;03m# median should always be included\u001b[39;00m\n\u001b[0;32m    405\u001b[0m \u001b[38;5;28;01mif\u001b[39;00m \u001b[38;5;241m0.5\u001b[39m \u001b[38;5;129;01mnot\u001b[39;00m \u001b[38;5;129;01min\u001b[39;00m percentiles:\n",
      "File \u001b[1;32mc:\\Users\\henry\\anaconda3\\Lib\\site-packages\\pandas\\util\\_validators.py:339\u001b[0m, in \u001b[0;36mvalidate_percentile\u001b[1;34m(q)\u001b[0m\n\u001b[0;32m    337\u001b[0m         \u001b[38;5;28;01mraise\u001b[39;00m \u001b[38;5;167;01mValueError\u001b[39;00m(msg)\n\u001b[0;32m    338\u001b[0m \u001b[38;5;28;01melse\u001b[39;00m:\n\u001b[1;32m--> 339\u001b[0m     \u001b[38;5;28;01mif\u001b[39;00m \u001b[38;5;129;01mnot\u001b[39;00m \u001b[38;5;28mall\u001b[39m(\u001b[38;5;241m0\u001b[39m \u001b[38;5;241m<\u001b[39m\u001b[38;5;241m=\u001b[39m qs \u001b[38;5;241m<\u001b[39m\u001b[38;5;241m=\u001b[39m \u001b[38;5;241m1\u001b[39m \u001b[38;5;28;01mfor\u001b[39;00m qs \u001b[38;5;129;01min\u001b[39;00m q_arr):\n\u001b[0;32m    340\u001b[0m         \u001b[38;5;28;01mraise\u001b[39;00m \u001b[38;5;167;01mValueError\u001b[39;00m(msg)\n\u001b[0;32m    341\u001b[0m \u001b[38;5;28;01mreturn\u001b[39;00m q_arr\n",
      "File \u001b[1;32mc:\\Users\\henry\\anaconda3\\Lib\\site-packages\\pandas\\util\\_validators.py:339\u001b[0m, in \u001b[0;36m<genexpr>\u001b[1;34m(.0)\u001b[0m\n\u001b[0;32m    337\u001b[0m         \u001b[38;5;28;01mraise\u001b[39;00m \u001b[38;5;167;01mValueError\u001b[39;00m(msg)\n\u001b[0;32m    338\u001b[0m \u001b[38;5;28;01melse\u001b[39;00m:\n\u001b[1;32m--> 339\u001b[0m     \u001b[38;5;28;01mif\u001b[39;00m \u001b[38;5;129;01mnot\u001b[39;00m \u001b[38;5;28mall\u001b[39m(\u001b[38;5;241m0\u001b[39m \u001b[38;5;241m<\u001b[39m\u001b[38;5;241m=\u001b[39m qs \u001b[38;5;241m<\u001b[39m\u001b[38;5;241m=\u001b[39m \u001b[38;5;241m1\u001b[39m \u001b[38;5;28;01mfor\u001b[39;00m qs \u001b[38;5;129;01min\u001b[39;00m q_arr):\n\u001b[0;32m    340\u001b[0m         \u001b[38;5;28;01mraise\u001b[39;00m \u001b[38;5;167;01mValueError\u001b[39;00m(msg)\n\u001b[0;32m    341\u001b[0m \u001b[38;5;28;01mreturn\u001b[39;00m q_arr\n",
      "\u001b[1;31mTypeError\u001b[0m: '<=' not supported between instances of 'int' and 'numpy.str_'"
     ]
    }
   ],
   "source": [
    "# \"describe\" computes the count, mean, std, min, 25% quantile, 50%, 75%, max\n",
    "# automatically excludes variables with text values\n",
    "# otherwise includes all numeric variables\n",
    "\n",
    "carfeatures.describe('mpg')"
   ]
  },
  {
   "attachments": {},
   "cell_type": "markdown",
   "metadata": {},
   "source": [
    "<font size=\"5\"> \n",
    "\n",
    "Example: Display a scatter plot "
   ]
  },
  {
   "cell_type": "code",
   "execution_count": 23,
   "metadata": {},
   "outputs": [
    {
     "data": {
      "image/png": "[encoded data removed]",
      "text/plain": [
       "<Figure size 640x480 with 1 Axes>"
      ]
     },
     "metadata": {},
     "output_type": "display_data"
    },
    {
     "name": "stdout",
     "output_type": "stream",
     "text": [
      "Help on function scatter in module matplotlib.pyplot:\n",
      "\n",
      "scatter(\n",
      "    x: 'float | ArrayLike',\n",
      "    y: 'float | ArrayLike',\n",
      "    s: 'float | ArrayLike | None' = None,\n",
      "    c: 'ArrayLike | Sequence[ColorType] | ColorType | None' = None,\n",
      "    *,\n",
      "    marker: 'MarkerType | None' = None,\n",
      "    cmap: 'str | Colormap | None' = None,\n",
      "    norm: 'str | Normalize | None' = None,\n",
      "    vmin: 'float | None' = None,\n",
      "    vmax: 'float | None' = None,\n",
      "    alpha: 'float | None' = None,\n",
      "    linewidths: 'float | Sequence[float] | None' = None,\n",
      "    edgecolors: \"Literal['face', 'none'] | ColorType | Sequence[ColorType] | None\" = None,\n",
      "    colorizer: 'Colorizer | None' = None,\n",
      "    plotnonfinite: 'bool' = False,\n",
      "    data=None,\n",
      "    **kwargs\n",
      ") -> 'PathCollection'\n",
      "    A scatter plot of *y* vs. *x* with varying marker size and/or color.\n",
      "\n",
      "    Parameters\n",
      "    ----------\n",
      "    x, y : float or array-like, shape (n, )\n",
      "        The data positions.\n",
      "\n",
      "    s : float or array-like, shape (n, ), optional\n",
      "        The marker size in points**2 (typographic points are 1/72 in.).\n",
      "        Default is ``rcParams['lines.markersize'] ** 2``.\n",
      "\n",
      "        The linewidth and edgecolor can visually interact with the marker\n",
      "        size, and can lead to artifacts if the marker size is smaller than\n",
      "        the linewidth.\n",
      "\n",
      "        If the linewidth is greater than 0 and the edgecolor is anything\n",
      "        but *'none'*, then the effective size of the marker will be\n",
      "        increased by half the linewidth because the stroke will be centered\n",
      "        on the edge of the shape.\n",
      "\n",
      "        To eliminate the marker edge either set *linewidth=0* or\n",
      "        *edgecolor='none'*.\n",
      "\n",
      "    c : array-like or list of :mpltype:`color` or :mpltype:`color`, optional\n",
      "        The marker colors. Possible values:\n",
      "\n",
      "        - A scalar or sequence of n numbers to be mapped to colors using\n",
      "          *cmap* and *norm*.\n",
      "        - A 2D array in which the rows are RGB or RGBA.\n",
      "        - A sequence of colors of length n.\n",
      "        - A single color format string.\n",
      "\n",
      "        Note that *c* should not be a single numeric RGB or RGBA sequence\n",
      "        because that is indistinguishable from an array of values to be\n",
      "        colormapped. If you want to specify the same RGB or RGBA value for\n",
      "        all points, use a 2D array with a single row.  Otherwise,\n",
      "        value-matching will have precedence in case of a size matching with\n",
      "        *x* and *y*.\n",
      "\n",
      "        If you wish to specify a single color for all points\n",
      "        prefer the *color* keyword argument.\n",
      "\n",
      "        Defaults to `None`. In that case the marker color is determined\n",
      "        by the value of *color*, *facecolor* or *facecolors*. In case\n",
      "        those are not specified or `None`, the marker color is determined\n",
      "        by the next color of the ``Axes``' current \"shape and fill\" color\n",
      "        cycle. This cycle defaults to :rc:`axes.prop_cycle`.\n",
      "\n",
      "    marker : `~.markers.MarkerStyle`, default: :rc:`scatter.marker`\n",
      "        The marker style. *marker* can be either an instance of the class\n",
      "        or the text shorthand for a particular marker.\n",
      "        See :mod:`matplotlib.markers` for more information about marker\n",
      "        styles.\n",
      "\n",
      "    cmap : str or `~matplotlib.colors.Colormap`, default: :rc:`image.cmap`\n",
      "        The Colormap instance or registered colormap name used to map scalar data\n",
      "        to colors.\n",
      "\n",
      "        This parameter is ignored if *c* is RGB(A).\n",
      "\n",
      "    norm : str or `~matplotlib.colors.Normalize`, optional\n",
      "        The normalization method used to scale scalar data to the [0, 1] range\n",
      "        before mapping to colors using *cmap*. By default, a linear scaling is\n",
      "        used, mapping the lowest value to 0 and the highest to 1.\n",
      "\n",
      "        If given, this can be one of the following:\n",
      "\n",
      "        - An instance of `.Normalize` or one of its subclasses\n",
      "          (see :ref:`colormapnorms`).\n",
      "        - A scale name, i.e. one of \"linear\", \"log\", \"symlog\", \"logit\", etc.  For a\n",
      "          list of available scales, call `matplotlib.scale.get_scale_names()`.\n",
      "          In that case, a suitable `.Normalize` subclass is dynamically generated\n",
      "          and instantiated.\n",
      "\n",
      "        This parameter is ignored if *c* is RGB(A).\n",
      "\n",
      "    vmin, vmax : float, optional\n",
      "        When using scalar data and no explicit *norm*, *vmin* and *vmax* define\n",
      "        the data range that the colormap covers. By default, the colormap covers\n",
      "        the complete value range of the supplied data. It is an error to use\n",
      "        *vmin*/*vmax* when a *norm* instance is given (but using a `str` *norm*\n",
      "        name together with *vmin*/*vmax* is acceptable).\n",
      "\n",
      "        This parameter is ignored if *c* is RGB(A).\n",
      "\n",
      "    alpha : float, default: None\n",
      "        The alpha blending value, between 0 (transparent) and 1 (opaque).\n",
      "\n",
      "    linewidths : float or array-like, default: :rc:`lines.linewidth`\n",
      "        The linewidth of the marker edges. Note: The default *edgecolors*\n",
      "        is 'face'. You may want to change this as well.\n",
      "\n",
      "    edgecolors : {'face', 'none', *None*} or :mpltype:`color` or list of :mpltype:`color`, default: :rc:`scatter.edgecolors`\n",
      "        The edge color of the marker. Possible values:\n",
      "\n",
      "        - 'face': The edge color will always be the same as the face color.\n",
      "        - 'none': No patch boundary will be drawn.\n",
      "        - A color or sequence of colors.\n",
      "\n",
      "        For non-filled markers, *edgecolors* is ignored. Instead, the color\n",
      "        is determined like with 'face', i.e. from *c*, *colors*, or\n",
      "        *facecolors*.\n",
      "\n",
      "    colorizer : `~matplotlib.colorizer.Colorizer` or None, default: None\n",
      "        The Colorizer object used to map color to data. If None, a Colorizer\n",
      "        object is created from a *norm* and *cmap*.\n",
      "\n",
      "        This parameter is ignored if *c* is RGB(A).\n",
      "\n",
      "    plotnonfinite : bool, default: False\n",
      "        Whether to plot points with nonfinite *c* (i.e. ``inf``, ``-inf``\n",
      "        or ``nan``). If ``True`` the points are drawn with the *bad*\n",
      "        colormap color (see `.Colormap.set_bad`).\n",
      "\n",
      "    Returns\n",
      "    -------\n",
      "    `~matplotlib.collections.PathCollection`\n",
      "\n",
      "    Other Parameters\n",
      "    ----------------\n",
      "    data : indexable object, optional\n",
      "        If given, the following parameters also accept a string ``s``, which is\n",
      "        interpreted as ``data[s]`` if ``s`` is a key in ``data``:\n",
      "\n",
      "        *x*, *y*, *s*, *linewidths*, *edgecolors*, *c*, *facecolor*, *facecolors*, *color*\n",
      "    **kwargs : `~matplotlib.collections.PathCollection` properties\n",
      "        Properties:\n",
      "        agg_filter: a filter function, which takes a (m, n, 3) float array and a dpi value, and returns a (m, n, 3) array and two offsets from the bottom left corner of the image\n",
      "        alpha: array-like or scalar or None\n",
      "        animated: bool\n",
      "        antialiased or aa or antialiaseds: bool or list of bools\n",
      "        array: array-like or None\n",
      "        capstyle: `.CapStyle` or {'butt', 'projecting', 'round'}\n",
      "        clim: (vmin: float, vmax: float)\n",
      "        clip_box: `~matplotlib.transforms.BboxBase` or None\n",
      "        clip_on: bool\n",
      "        clip_path: Patch or (Path, Transform) or None\n",
      "        cmap: `.Colormap` or str or None\n",
      "        color: :mpltype:`color` or list of RGBA tuples\n",
      "        edgecolor or ec or edgecolors: :mpltype:`color` or list of :mpltype:`color` or 'face'\n",
      "        facecolor or facecolors or fc: :mpltype:`color` or list of :mpltype:`color`\n",
      "        figure: `~matplotlib.figure.Figure` or `~matplotlib.figure.SubFigure`\n",
      "        gid: str\n",
      "        hatch: {'/', '\\\\', '|', '-', '+', 'x', 'o', 'O', '.', '*'}\n",
      "        hatch_linewidth: unknown\n",
      "        in_layout: bool\n",
      "        joinstyle: `.JoinStyle` or {'miter', 'round', 'bevel'}\n",
      "        label: object\n",
      "        linestyle or dashes or linestyles or ls: str or tuple or list thereof\n",
      "        linewidth or linewidths or lw: float or list of floats\n",
      "        mouseover: bool\n",
      "        norm: `.Normalize` or str or None\n",
      "        offset_transform or transOffset: `.Transform`\n",
      "        offsets: (N, 2) or (2,) array-like\n",
      "        path_effects: list of `.AbstractPathEffect`\n",
      "        paths: unknown\n",
      "        picker: None or bool or float or callable\n",
      "        pickradius: float\n",
      "        rasterized: bool\n",
      "        sizes: `numpy.ndarray` or None\n",
      "        sketch_params: (scale: float, length: float, randomness: float)\n",
      "        snap: bool or None\n",
      "        transform: `~matplotlib.transforms.Transform`\n",
      "        url: str\n",
      "        urls: list of str or None\n",
      "        visible: bool\n",
      "        zorder: float\n",
      "\n",
      "    See Also\n",
      "    --------\n",
      "    plot : To plot scatter plots when markers are identical in size and\n",
      "        color.\n",
      "\n",
      "    Notes\n",
      "    -----\n",
      "\n",
      "    .. note::\n",
      "\n",
      "        This is the :ref:`pyplot wrapper <pyplot_interface>` for `.axes.Axes.scatter`.\n",
      "\n",
      "    * The `.plot` function will be faster for scatterplots where markers\n",
      "      don't vary in size or color.\n",
      "\n",
      "    * Any or all of *x*, *y*, *s*, and *c* may be masked arrays, in which\n",
      "      case all masks will be combined and only unmasked points will be\n",
      "      plotted.\n",
      "\n",
      "    * Fundamentally, scatter works with 1D arrays; *x*, *y*, *s*, and *c*\n",
      "      may be input as N-D arrays, but within scatter they will be\n",
      "      flattened. The exception is *c*, which will be flattened only if its\n",
      "      size matches the size of *x* and *y*.\n",
      "\n"
     ]
    }
   ],
   "source": [
    "plt.scatter(x = carfeatures['weight'], y = carfeatures['mpg'], color = 'red', marker = '+')\n",
    "plt.xlabel(\"weight (lbs)\")\n",
    "plt.ylabel(\"miles per gallon (mpg)\")\n",
    "plt.title(\"Weight vs. MPG\")\n",
    "plt.xlim(0,6000)\n",
    "plt.show()\n",
    "help(plt.scatter)"
   ]
  },
  {
   "cell_type": "markdown",
   "metadata": {},
   "source": [
    "### Q: Is this a good plot?"
   ]
  },
  {
   "cell_type": "code",
   "execution_count": null,
   "metadata": {},
   "outputs": [],
   "source": [
    "# Try another scatter plot with x = \"acceleration\"\n",
    "\n",
    "\n"
   ]
  },
  {
   "attachments": {},
   "cell_type": "markdown",
   "metadata": {},
   "source": [
    "\n",
    "\n",
    "# <span style=\"color:darkblue\"> Pro Tips: How to be a great student for QTM 151?\n",
    " </span>\n",
    "\n",
    "<font size=\"5\"> \n",
    "\n",
    "- Ask clarifying questions, e.g.\n",
    "\n",
    "    -  Can you explain what this command is doing? --> **I don't mind repeating an explanation!**\n",
    "    -  What are the arguments of this function?\n",
    "    -  What is the output?\n",
    "    -  I get an error saying .... (be explicit), what could be the issue?"
   ]
  },
  {
   "attachments": {},
   "cell_type": "markdown",
   "metadata": {},
   "source": [
    "<font size=\"5\"> \n",
    "\n",
    "- Remember that good coders ...\n",
    "\n",
    "    -  build up their toolkit of commands over time\n",
    "    -  understand that errors are normal the first time you run a command\n",
    "    -  **learn to use online websites to interpret errors!!**, https://stackoverflow.com/questions/tagged/python\n",
    "    -  search help pages to find proper syntax, e.g. https://www.w3schools.com/python/\n"
   ]
  },
  {
   "attachments": {},
   "cell_type": "markdown",
   "metadata": {},
   "source": [
    "<font size=\"5\"> \n",
    "\n",
    "- Experiment\n",
    "\n",
    "    -  If we do analyses for variable \"A\", try it for \"B\"\n",
    "    -  Search online how to do something extra, e.g. change the color of a scatter plot\n",
    "    -  Try running the syntax deliberately wrong: helps you get more familiar with error messages\n",
    "    -  Think long term: Figuring out a puzzle today, means that you can use the code for the next time!"
   ]
  },
  {
   "attachments": {},
   "cell_type": "markdown",
   "metadata": {},
   "source": [
    "<font size=\"5\"> \n",
    "\n",
    "- Come to office hours\n",
    "\n",
    "    -  Best time for a one-on-one!\n",
    "    -  Good place to ask about topics not covered in the lecture\n"
   ]
  }
 ],
 "metadata": {
  "kernelspec": {
   "display_name": "base",
   "language": "python",
   "name": "python3"
  },
  "language_info": {
   "codemirror_mode": {
    "name": "ipython",
    "version": 3
   },
   "file_extension": ".py",
   "mimetype": "text/x-python",
   "name": "python",
   "nbconvert_exporter": "python",
   "pygments_lexer": "ipython3",
   "version": "3.13.5"
  },
  "orig_nbformat": 4
 },
 "nbformat": 4,
 "nbformat_minor": 2
}

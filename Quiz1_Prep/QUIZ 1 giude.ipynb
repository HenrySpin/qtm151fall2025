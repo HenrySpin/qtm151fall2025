{
 "cells": [
  {
   "cell_type": "markdown",
   "id": "4b2b7246",
   "metadata": {},
   "source": [
    "\n",
    "1. Use an if/elif/else block to test whether a string belongs to one of two lists. Depending on the outcome (belongs to list A, belongs to list B, doesn't belong to either list) print an appropriate message to the screen."
   ]
  },
  {
   "cell_type": "code",
   "execution_count": null,
   "id": "8c394be6",
   "metadata": {},
   "outputs": [
    {
     "name": "stdout",
     "output_type": "stream",
     "text": [
      "cherry belongs to list A.\n"
     ]
    }
   ],
   "source": [
    "#Reffer to Lecture 6 and asignment 3 for help. \n",
    "\n",
    "list_A = [\"apple\", \"banana\", \"cherry\"]           # ------ **Insert your lists here** ------ #\n",
    "list_B = [\"dog\", \"cat\", \"mouse\"]                # ------ **Insert your lists here** ------ #\n",
    "\n",
    "# String to test\n",
    "my_string = \"cherry\"\n",
    "\n",
    "# if/elif/else block\n",
    "if my_string in list_A:\n",
    "    print(my_string, \"belongs to list A.\")\n",
    "elif my_string in list_B:\n",
    "    print(my_string, \"belongs to list B.\")\n",
    "else:\n",
    "    print(my_string, \"does not belong to either list A or list B.\")"
   ]
  },
  {
   "cell_type": "markdown",
   "id": "b7a47299",
   "metadata": {},
   "source": [
    "2. You are given two lists of numbers, x_vals and y_vals, and must create a Numpy array where the components are related to those in the lists (for example, you might be asked to create a Numpy array with entries zk = (xk)^2 -5sin*yk)) for kth term . Then generate a histogram of the values in the Numpy array, "
   ]
  },
  {
   "cell_type": "code",
   "execution_count": null,
   "id": "25e9c32a",
   "metadata": {},
   "outputs": [],
   "source": [
    "# Reffer to assignment 4 for help \n",
    "\n",
    "import numpy as np\n",
    "import matplotlib.pyplot as plt\n",
    "\n",
    "# Example lists\n",
    "x_vals = [1, 2, 3, 4, 5]\n",
    "y_vals = [0.5, 1.0, 1.5, 2.0, 2.5]\n",
    "\n",
    "# Convert lists to NumPy arrays ------ **Insert correct equation** ------\n",
    "vec_y1 = np.sin(x_vals)\n",
    "vec_y2 = np.cos(x_vals)\n",
    "\n",
    "\n",
    "\n",
    "# put arrays in a list (if you want multiple datasets)\n",
    "list_arrays = [vec_y1, vec_y2]  \n",
    "\n",
    "#Plott historgram \n",
    "for vec in list_vectors:\n",
    "    plt.plot(x_vals, vec)\n",
    "\n",
    "plt.xlabel(\"$x$\")\n",
    "plt.ylabel(\"$y$\")\n",
    "plt.title(\"Graph of Sine and Cosine Functions for $0 \\leq x \\leq 2\\pi$\")\n",
    "plt.show()"
   ]
  },
  {
   "cell_type": "markdown",
   "id": "38eedab6",
   "metadata": {},
   "source": [
    " 3. Generate random samples from two specified distributions and plot their histograms, side by side in a single figure. Each sub-figure will have its own labeled axes and title."
   ]
  },
  {
   "cell_type": "code",
   "execution_count": null,
   "id": "4a60969f",
   "metadata": {},
   "outputs": [],
   "source": [
    "# Reffer to Lecture 8 for help \n",
    "\n",
    "# Example distributions\n",
    "samples_1 = np.random.normal(loc=0, scale=1, size=num_samples)   # Normal distribution\n",
    "samples_2 = np.random.uniform(low=-2, high=2, size=num_samples)  # Uniform distribution\n",
    "\n",
    "fig, subfig_array = plt.subplots(nrows = 1, ncols = 3, figsize = (9,3))\n",
    "\n",
    "# First sub-figure\n",
    "subfig_array[0].hist(samples_1)\n",
    "subfig_array[0].set_title(\"Normal Distribution\\n with mean -2, s.d. 6\")\n",
    "subfig_array[0].set_xlabel(\"Sample Value\")\n",
    "subfig_array[0].set_ylabel(\"Frequency\")\n",
    "\n",
    "# Second sub-figure\n",
    "subfig_array[1].hist(samples_2)\n",
    "subfig_array[1].set_title(\"Uniform Distribution\\n over [-3, 5]\")\n",
    "subfig_array[1].set_xlabel(\"Sample Value\")\n",
    "subfig_array[1].set_ylabel(\"Frequency\")\n",
    "\n",
    "\n",
    "# The tight layout option ensures that the axes are not overlapping\n",
    "plt.tight_layout()"
   ]
  },
  {
   "cell_type": "markdown",
   "id": "41b39b07",
   "metadata": {},
   "source": [
    "4. Read in a .csv file to create a Pandas DataFrame. Create a scatter plot with one of the variables (or features) corresponding to the x-axis and another corresponding to the y-axis. The plot should have a title and labeled axes."
   ]
  },
  {
   "cell_type": "code",
   "execution_count": null,
   "id": "643c26bd",
   "metadata": {},
   "outputs": [],
   "source": [
    "# Reffer to lecture 1 for help \n",
    "\n",
    "# Import data with pands \n",
    "import pandas as pd\n",
    "df = pd.read_csv('_________') # ------ **Insert the correct file path here** ------ #\n",
    "print(df.head())   # Display the first few rows of the DataFrame    \n",
    "\n",
    "x = df['______'] # ------ **Insert the correct column names here** ------\n",
    "y = df['______'] # ------ **Insert the correct column names here** ------ #\n",
    "\n",
    "plt.scatter(x, y)\n",
    "plt.xlabel(\"________\") # ------ **Insert the correct x-axis label here** ------\n",
    "plt.ylabel(\"________\") # ------ **Insert the correct y-axis label here** ------ \n",
    "plt.title(\"_________\") # ------ **Insert the correct plot title here** ------  \n",
    "plt.show()\n"
   ]
  },
  {
   "cell_type": "markdown",
   "id": "c286d8f6",
   "metadata": {},
   "source": [
    "5. Read in a .csv file to create a Pandas DataFrame. Loop over a list of variable/column names, printing the mean of each variable."
   ]
  },
  {
   "cell_type": "code",
   "execution_count": null,
   "id": "67523b96",
   "metadata": {},
   "outputs": [],
   "source": [
    "# Refference lectire 7 for help \n",
    "__insert__ = pd.read_csv('_________') # ------ **Insert the correct file path here** ------ #\n",
    "print(__insert__.head())   # Display the first few rows of the DataFrame    \n",
    "\n",
    "# List of column names to loop over\n",
    "columns = [\"mpg\", \"acceleration\", \"weight\"] #------ **Insert the correct column names here** ------\n",
    "\n",
    "# Loop through the list and print a message for each variable\n",
    "for col in columns:\n",
    "    print(\"The mean of \" + col + \" is \" + str(carfeatures[col].mean()))"
   ]
  },
  {
   "cell_type": "markdown",
   "id": "e89f83d8",
   "metadata": {},
   "source": [
    "6. Create a list of .csv file names and an additional empty list. Then in a for loop, read in each file to make a DataFrame, compute the mean of one of the variables/features/columns, and store it as an element of the originally empty list. Then print the list."
   ]
  },
  {
   "cell_type": "code",
   "execution_count": null,
   "id": "c34b83e2",
   "metadata": {},
   "outputs": [],
   "source": [
    "# Refrence lecture 8 for help\n",
    "\n",
    "# create list of csv files \n",
    "csv_files = [\"file1.csv\", \"file2.csv\", \"file3.csv\"]   # ------ **Insert .csv file names here** ------ #\n",
    "\n",
    "mean_list = []  # List to hold the means \n",
    "for file in csv_files:\n",
    "    df = pd.read_csv(file)\n",
    "    mean_value = df[\"column_name\"].mean()             # ------ **Insert column name here** ------ #\n",
    "    mean_list.append(mean_value)                      # Add mean to list\n",
    "\n",
    "print(\"Means from each file:\", mean_list) "
   ]
  }
 ],
 "metadata": {
  "kernelspec": {
   "display_name": "base",
   "language": "python",
   "name": "python3"
  },
  "language_info": {
   "codemirror_mode": {
    "name": "ipython",
    "version": 3
   },
   "file_extension": ".py",
   "mimetype": "text/x-python",
   "name": "python",
   "nbconvert_exporter": "python",
   "pygments_lexer": "ipython3",
   "version": "3.13.5"
  }
 },
 "nbformat": 4,
 "nbformat_minor": 5
}

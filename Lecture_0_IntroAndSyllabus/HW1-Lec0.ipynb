{
 "cells": [
  {
   "cell_type": "markdown",
   "id": "17b1ec48",
   "metadata": {},
   "source": [
    "<font size=\"10\"> This is my first Jupyter notebook\n"
   ]
  },
  {
   "cell_type": "code",
   "execution_count": 1,
   "id": "52afb624",
   "metadata": {},
   "outputs": [
    {
     "name": "stdout",
     "output_type": "stream",
     "text": [
      "My name is Henry Spinella\n"
     ]
    }
   ],
   "source": [
    "print(\"My name is Henry Spinella\")"
   ]
  }
 ],
 "metadata": {
  "kernelspec": {
   "display_name": "base",
   "language": "python",
   "name": "python3"
  },
  "language_info": {
   "codemirror_mode": {
    "name": "ipython",
    "version": 3
   },
   "file_extension": ".py",
   "mimetype": "text/x-python",
   "name": "python",
   "nbconvert_exporter": "python",
   "pygments_lexer": "ipython3",
   "version": "3.13.5"
  }
 },
 "nbformat": 4,
 "nbformat_minor": 5
}
